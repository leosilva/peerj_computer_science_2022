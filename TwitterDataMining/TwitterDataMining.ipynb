{
 "cells": [
  {
   "cell_type": "code",
   "execution_count": 88,
   "metadata": {
    "scrolled": true
   },
   "outputs": [
    {
     "name": "stdout",
     "output_type": "stream",
     "text": [
      "Requirement already satisfied: mysql-connector-python in /Users/leosilva/opt/anaconda3/lib/python3.7/site-packages (8.0.22)\n",
      "Requirement already satisfied: protobuf>=3.0.0 in /Users/leosilva/opt/anaconda3/lib/python3.7/site-packages (from mysql-connector-python) (3.14.0)\n",
      "Requirement already satisfied: six>=1.9 in /Users/leosilva/opt/anaconda3/lib/python3.7/site-packages (from protobuf>=3.0.0->mysql-connector-python) (1.14.0)\n",
      "Note: you may need to restart the kernel to use updated packages.\n"
     ]
    }
   ],
   "source": [
    "pip install mysql-connector-python"
   ]
  },
  {
   "cell_type": "code",
   "execution_count": 89,
   "metadata": {},
   "outputs": [],
   "source": [
    "import json\n",
    "\n",
    "# Enter your keys/secrets as strings in the following fields\n",
    "credentials = {}\n",
    "credentials['CONSUMER_KEY'] = \"nHAF4VfPXSFW4yBs8w2MKnNty\"\n",
    "credentials['CONSUMER_SECRET'] = \"ZnrJTcRKVq9pqrnLDFkeTZBrZ0z53av8cYwcLIXFzVM2xyFZHD\"\n",
    "credentials['ACCESS_TOKEN'] = \"AAAAAAAAAAAAAAAAAAAAAPiIKwEAAAAA9WtZ8uEanLGM0HIGREA3wQNj9aU%3DG14tlXfigXCmX5uY3JR5t85Lgr1WYHcJmAQKXw8GO1QGQu80Dw\"\n",
    "#credentials['ACCESS_SECRET'] = ..."
   ]
  },
  {
   "cell_type": "code",
   "execution_count": 90,
   "metadata": {},
   "outputs": [
    {
     "name": "stdout",
     "output_type": "stream",
     "text": [
      "Requirement already satisfied: tweepy in /Users/leosilva/opt/anaconda3/lib/python3.7/site-packages (3.9.0)\n",
      "Requirement already satisfied: six>=1.10.0 in /Users/leosilva/opt/anaconda3/lib/python3.7/site-packages (from tweepy) (1.14.0)\n",
      "Requirement already satisfied: requests[socks]>=2.11.1 in /Users/leosilva/opt/anaconda3/lib/python3.7/site-packages (from tweepy) (2.22.0)\n",
      "Requirement already satisfied: requests-oauthlib>=0.7.0 in /Users/leosilva/opt/anaconda3/lib/python3.7/site-packages (from tweepy) (1.3.0)\n",
      "Requirement already satisfied: chardet<3.1.0,>=3.0.2 in /Users/leosilva/opt/anaconda3/lib/python3.7/site-packages (from requests[socks]>=2.11.1->tweepy) (3.0.4)\n",
      "Requirement already satisfied: urllib3!=1.25.0,!=1.25.1,<1.26,>=1.21.1 in /Users/leosilva/opt/anaconda3/lib/python3.7/site-packages (from requests[socks]>=2.11.1->tweepy) (1.25.8)\n",
      "Requirement already satisfied: idna<2.9,>=2.5 in /Users/leosilva/opt/anaconda3/lib/python3.7/site-packages (from requests[socks]>=2.11.1->tweepy) (2.8)\n",
      "Requirement already satisfied: certifi>=2017.4.17 in /Users/leosilva/opt/anaconda3/lib/python3.7/site-packages (from requests[socks]>=2.11.1->tweepy) (2019.11.28)\n",
      "Requirement already satisfied: PySocks!=1.5.7,>=1.5.6; extra == \"socks\" in /Users/leosilva/opt/anaconda3/lib/python3.7/site-packages (from requests[socks]>=2.11.1->tweepy) (1.7.1)\n",
      "Requirement already satisfied: oauthlib>=3.0.0 in /Users/leosilva/opt/anaconda3/lib/python3.7/site-packages (from requests-oauthlib>=0.7.0->tweepy) (3.1.0)\n",
      "Note: you may need to restart the kernel to use updated packages.\n"
     ]
    }
   ],
   "source": [
    "pip install tweepy"
   ]
  },
  {
   "cell_type": "code",
   "execution_count": 91,
   "metadata": {},
   "outputs": [],
   "source": [
    "import tweepy #https://github.com/tweepy/tweepy\n",
    "import csv\n",
    "\n",
    "def get_all_tweets(screen_name):\n",
    "    #Twitter only allows access to a users most recent 3240 tweets with this method\n",
    "    \n",
    "    #authorize twitter, initialize tweepy\n",
    "    auth = tweepy.AppAuthHandler(credentials['CONSUMER_KEY'], credentials['CONSUMER_SECRET'])\n",
    "    api = tweepy.API(auth)\n",
    "    \n",
    "    #initialize a list to hold all the tweepy Tweets\n",
    "    alltweets = []  \n",
    "    \n",
    "    #make initial request for most recent tweets (200 is the maximum allowed count)\n",
    "    new_tweets = api.user_timeline(screen_name = screen_name,count=200)\n",
    "    \n",
    "    #save most recent tweets\n",
    "    alltweets.extend(new_tweets)\n",
    "    \n",
    "    #save the id of the oldest tweet less one\n",
    "    oldest = alltweets[-1].id - 1\n",
    "    \n",
    "    #keep grabbing tweets until there are no tweets left to grab\n",
    "    while len(new_tweets) > 3198:\n",
    "        print(f\"getting tweets before {oldest}\")\n",
    "        \n",
    "        #all subsiquent requests use the max_id param to prevent duplicates\n",
    "        new_tweets = api.user_timeline(screen_name = screen_name,count=200,max_id=oldest)\n",
    "        \n",
    "        #save most recent tweets\n",
    "        alltweets.extend(new_tweets)\n",
    "        \n",
    "        #update the id of the oldest tweet less one\n",
    "        oldest = alltweets[-1].id - 1\n",
    "        \n",
    "        print(f\"...{len(alltweets)} tweets downloaded so far\")\n",
    "    \n",
    "    #transform the tweepy tweets into a 2D array that will populate the csv \n",
    "#     print(json.dumps(alltweets[5]._json, indent=2))\n",
    "#     outtweets = [[tweet.id_str, tweet.created_at, tweet.text] for tweet in alltweets]\n",
    "    \n",
    "    #write the csv  \n",
    "#     with open(f'/Users/leosilva/development/thesis/TwitterDataMining/tweets/{screen_name}_tweets.csv', 'w') as f:\n",
    "#         writer = csv.writer(f)\n",
    "#         writer.writerow([\"id\",\"created_at\",\"text\"])\n",
    "#         writer.writerows(outtweets)\n",
    "    \n",
    "#     pass\n",
    "\n",
    "    return alltweets"
   ]
  },
  {
   "cell_type": "code",
   "execution_count": 92,
   "metadata": {},
   "outputs": [],
   "source": [
    "import mysql.connector\n",
    "\n",
    "def get_connection():\n",
    "    connection = mysql.connector.connect(host = \"localhost\", user=\"root\", passwd=\"root\", db=\"TwitterDataMining\")\n",
    "    cursor = connection.cursor(buffered=True)\n",
    "    return [connection, cursor]"
   ]
  },
  {
   "cell_type": "code",
   "execution_count": 99,
   "metadata": {},
   "outputs": [],
   "source": [
    "import mysql.connector\n",
    "from datetime import datetime\n",
    "\n",
    "\n",
    "def store_tweets(alltweets):\n",
    "    print(\"init of store tweets function\")\n",
    "    connection, cursor = get_connection()\n",
    "    try:\n",
    "        cursor.execute(\"SET SESSION TRANSACTION ISOLATION LEVEL READ COMMITTED\")\n",
    "    except mysql.connector.Error as err:\n",
    "        print(err)\n",
    "        print(\"Error Code:\", err.errno)\n",
    "        print(\"SQLSTATE\", err.sqlstate)\n",
    "        print(\"Message\", err.msg)\n",
    "        cursor.close()\n",
    "        connection.close()\n",
    "\n",
    "    id_user = 0\n",
    "    user = None\n",
    "    \n",
    "    some_tweet = alltweets[0]\n",
    "    \n",
    "    id_str_user = some_tweet['user']['id_str']\n",
    "    try:\n",
    "        cursor.execute(\"SELECT id FROM User u WHERE u.id_str_twitter = '{}'\".format(id_str_user))\n",
    "        user = cursor.fetchone()\n",
    "    except mysql.connector.Error as err:\n",
    "        print(err)\n",
    "        print(\"Error Code:\", err.errno)\n",
    "        print(\"SQLSTATE\", err.sqlstate)\n",
    "        print(\"Message\", err.msg)\n",
    "        cursor.close()\n",
    "        connection.close()\n",
    "\n",
    "    if user is None:\n",
    "        name = some_tweet['user']['name']\n",
    "        screen_name = some_tweet['user']['screen_name']\n",
    "        created_at = some_tweet['user']['created_at']\n",
    "        date_time_obj = datetime.strptime(created_at, '%a %b %d %H:%M:%S %z %Y')\n",
    "        url = some_tweet['user']['url']\n",
    "        location = some_tweet['user']['location']\n",
    "        try:\n",
    "            cursor.execute(\"INSERT INTO User (id_str_twitter, name, screen_name, location, url, created_at) VALUES ('{}', '{}', '{}', '{}', '{}', '{}')\".format(id_str_user, name, screen_name, location, url, date_time_obj))\n",
    "            cursor.execute('SELECT last_insert_id()')\n",
    "            id_user = int(cursor.fetchone()[0])\n",
    "        except mysql.connector.Error as err:\n",
    "            print(err)\n",
    "            print(\"Error Code:\", err.errno)\n",
    "            print(\"SQLSTATE\", err.sqlstate)\n",
    "            print(\"Message\", err.msg)\n",
    "            cursor.close()\n",
    "            connection.close()\n",
    "    else:\n",
    "        id_user = int(user[0])\n",
    "\n",
    "        \n",
    "    for tweet in alltweets:\n",
    "        id_str_tweet = tweet['id_str']\n",
    "        try:\n",
    "            cursor.execute(\"SELECT id FROM Tweet t WHERE t.id_str_twitter = '{}'\".format(id_str_tweet))\n",
    "            existing_tweet = cursor.fetchone()\n",
    "        except mysql.connector.Error as err:\n",
    "            print(err)\n",
    "            print(\"Error Code:\", err.errno)\n",
    "            print(\"SQLSTATE\", err.sqlstate)\n",
    "            print(\"Message\", err.msg)\n",
    "            cursor.close()\n",
    "            connection.close()\n",
    "            break\n",
    "                       \n",
    "        if existing_tweet is None:\n",
    "            text = tweet['text'].replace(\"\\'\", \"\\\"\")\n",
    "            created_at = tweet['created_at']\n",
    "            date_time_obj = datetime.strptime(created_at, '%a %b %d %H:%M:%S %z %Y')\n",
    "            favorite_count = int(tweet['favorite_count'])\n",
    "            retweet_count = int(tweet['retweet_count'])\n",
    "            lang = tweet['lang']\n",
    "            try:\n",
    "                cursor.execute(\"INSERT INTO Tweet (id_str_twitter, text, created_at, favorite_count, retweet_count, lang, id_user) VALUES ('{}', '{}', '{}', {}, {}, '{}', {})\".format(id_str_tweet, text, date_time_obj, favorite_count, retweet_count, lang, id_user))\n",
    "            except mysql.connector.Error as err:\n",
    "                print(err)\n",
    "                print(\"Error Code:\", err.errno)\n",
    "                print(\"SQLSTATE\", err.sqlstate)\n",
    "                print(\"Message\", err.msg)\n",
    "                cursor.close()\n",
    "                connection.close()\n",
    "                break\n",
    "\n",
    "    connection.commit()\n",
    "    cursor.close()\n",
    "    connection.close()\n",
    "    print(\"end of store tweets function\")"
   ]
  },
  {
   "cell_type": "code",
   "execution_count": 100,
   "metadata": {
    "scrolled": false
   },
   "outputs": [
    {
     "name": "stdout",
     "output_type": "stream",
     "text": [
      "init of store tweets function\n",
      "end of store tweets function\n"
     ]
    }
   ],
   "source": [
    "alltweets = get_all_tweets(\"adorilson\")\n",
    "store_tweets([tweet._json for tweet in alltweets])"
   ]
  },
  {
   "cell_type": "code",
   "execution_count": 101,
   "metadata": {},
   "outputs": [],
   "source": [
    "def get_last_date(screen_name):\n",
    "    connection, cursor = get_connection()\n",
    "\n",
    "    cursor.execute(\"SELECT id FROM User u WHERE u.screen_name = '{}'\".format(screen_name))\n",
    "    id_user = cursor.fetchone()\n",
    "\n",
    "    cursor.execute(\"SELECT created_at FROM Tweet t WHERE t.id_user = '{}' ORDER BY created_at\".format(id_user[0]))\n",
    "    last_date = cursor.fetchone()\n",
    "    return last_date[0]"
   ]
  },
  {
   "cell_type": "code",
   "execution_count": 102,
   "metadata": {},
   "outputs": [
    {
     "name": "stdout",
     "output_type": "stream",
     "text": [
      "<class 'datetime.datetime'>\n",
      "<class 'datetime.datetime'>\n",
      "last_date maior\n"
     ]
    }
   ],
   "source": [
    "last_date = get_last_date(\"adorilson\")\n",
    "print(type(last_date))\n",
    "base_date = datetime(2017, 1, 1)\n",
    "print(type(base_date))\n",
    "if last_date > base_date:\n",
    "    print(\"last_date maior\")"
   ]
  },
  {
   "cell_type": "code",
   "execution_count": 103,
   "metadata": {},
   "outputs": [],
   "source": [
    "import json\n",
    "\n",
    "ids_twitter = []\n",
    "f = open(\"/Users/leosilva/development/thesis/TwitterScraper/json/adorilson.json\")\n",
    "json_tweets = json.load(f)\n",
    "for tweet in json_tweets:    \n",
    "    ids_twitter.append(json_tweets[tweet][\"id_str\"])"
   ]
  },
  {
   "cell_type": "code",
   "execution_count": 104,
   "metadata": {},
   "outputs": [],
   "source": [
    "def get_tweets_by_id_twitter(ids_twitter):\n",
    "    ids_twitter_tuple = tuple(ids_twitter)\n",
    "    connection, cursor = get_connection()\n",
    "\n",
    "    cursor.execute(\"SELECT t.id_str_twitter FROM Tweet t WHERE t.id_str_twitter IN {}\".format(ids_twitter_tuple))\n",
    "    ids = cursor.fetchmany()\n",
    "\n",
    "    return ids"
   ]
  },
  {
   "cell_type": "code",
   "execution_count": 105,
   "metadata": {},
   "outputs": [
    {
     "name": "stdout",
     "output_type": "stream",
     "text": [
      "('964515079466180608',)\n"
     ]
    }
   ],
   "source": [
    "existing_ids = get_tweets_by_id_twitter(ids_twitter)\n",
    "print(existing_ids[0])"
   ]
  },
  {
   "cell_type": "code",
   "execution_count": 106,
   "metadata": {},
   "outputs": [],
   "source": [
    "tweets_to_insert = [json_tweets[tweet] for tweet in json_tweets if json_tweets[tweet][\"id_str\"] not in existing_ids[0]]"
   ]
  },
  {
   "cell_type": "code",
   "execution_count": 107,
   "metadata": {},
   "outputs": [
    {
     "name": "stdout",
     "output_type": "stream",
     "text": [
      "init of store tweets function\n"
     ]
    },
    {
     "ename": "KeyError",
     "evalue": "'text'",
     "output_type": "error",
     "traceback": [
      "\u001b[0;31m---------------------------------------------------------------------------\u001b[0m",
      "\u001b[0;31mKeyError\u001b[0m                                  Traceback (most recent call last)",
      "\u001b[0;32m<ipython-input-107-483f0ead4d31>\u001b[0m in \u001b[0;36m<module>\u001b[0;34m\u001b[0m\n\u001b[0;32m----> 1\u001b[0;31m \u001b[0mstore_tweets\u001b[0m\u001b[0;34m(\u001b[0m\u001b[0mtweets_to_insert\u001b[0m\u001b[0;34m)\u001b[0m\u001b[0;34m\u001b[0m\u001b[0;34m\u001b[0m\u001b[0m\n\u001b[0m",
      "\u001b[0;32m<ipython-input-99-2f11d9773301>\u001b[0m in \u001b[0;36mstore_tweets\u001b[0;34m(alltweets)\u001b[0m\n\u001b[1;32m     70\u001b[0m \u001b[0;34m\u001b[0m\u001b[0m\n\u001b[1;32m     71\u001b[0m         \u001b[0;32mif\u001b[0m \u001b[0mexisting_tweet\u001b[0m \u001b[0;32mis\u001b[0m \u001b[0;32mNone\u001b[0m\u001b[0;34m:\u001b[0m\u001b[0;34m\u001b[0m\u001b[0;34m\u001b[0m\u001b[0m\n\u001b[0;32m---> 72\u001b[0;31m             \u001b[0mtext\u001b[0m \u001b[0;34m=\u001b[0m \u001b[0mtweet\u001b[0m\u001b[0;34m[\u001b[0m\u001b[0;34m'text'\u001b[0m\u001b[0;34m]\u001b[0m\u001b[0;34m.\u001b[0m\u001b[0mreplace\u001b[0m\u001b[0;34m(\u001b[0m\u001b[0;34m\"\\'\"\u001b[0m\u001b[0;34m,\u001b[0m \u001b[0;34m\"\\\"\"\u001b[0m\u001b[0;34m)\u001b[0m\u001b[0;34m\u001b[0m\u001b[0;34m\u001b[0m\u001b[0m\n\u001b[0m\u001b[1;32m     73\u001b[0m             \u001b[0mcreated_at\u001b[0m \u001b[0;34m=\u001b[0m \u001b[0mtweet\u001b[0m\u001b[0;34m[\u001b[0m\u001b[0;34m'created_at'\u001b[0m\u001b[0;34m]\u001b[0m\u001b[0;34m\u001b[0m\u001b[0;34m\u001b[0m\u001b[0m\n\u001b[1;32m     74\u001b[0m             \u001b[0mdate_time_obj\u001b[0m \u001b[0;34m=\u001b[0m \u001b[0mdatetime\u001b[0m\u001b[0;34m.\u001b[0m\u001b[0mstrptime\u001b[0m\u001b[0;34m(\u001b[0m\u001b[0mcreated_at\u001b[0m\u001b[0;34m,\u001b[0m \u001b[0;34m'%a %b %d %H:%M:%S %z %Y'\u001b[0m\u001b[0;34m)\u001b[0m\u001b[0;34m\u001b[0m\u001b[0;34m\u001b[0m\u001b[0m\n",
      "\u001b[0;31mKeyError\u001b[0m: 'text'"
     ]
    }
   ],
   "source": [
    "store_tweets(tweets_to_insert)"
   ]
  },
  {
   "cell_type": "code",
   "execution_count": null,
   "metadata": {},
   "outputs": [],
   "source": []
  }
 ],
 "metadata": {
  "kernelspec": {
   "display_name": "Python 3",
   "language": "python",
   "name": "python3"
  },
  "language_info": {
   "codemirror_mode": {
    "name": "ipython",
    "version": 3
   },
   "file_extension": ".py",
   "mimetype": "text/x-python",
   "name": "python",
   "nbconvert_exporter": "python",
   "pygments_lexer": "ipython3",
   "version": "3.7.6"
  }
 },
 "nbformat": 4,
 "nbformat_minor": 4
}
