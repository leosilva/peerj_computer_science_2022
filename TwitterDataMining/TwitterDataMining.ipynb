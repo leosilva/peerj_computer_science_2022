{
 "cells": [
  {
   "cell_type": "code",
   "execution_count": 1,
   "metadata": {
    "scrolled": true
   },
   "outputs": [
    {
     "name": "stdout",
     "output_type": "stream",
     "text": [
      "Requirement already satisfied: mysql-connector-python in /Users/leosilva/opt/anaconda3/lib/python3.7/site-packages (8.0.22)\n",
      "Requirement already satisfied: protobuf>=3.0.0 in /Users/leosilva/opt/anaconda3/lib/python3.7/site-packages (from mysql-connector-python) (3.14.0)\n",
      "Requirement already satisfied: six>=1.9 in /Users/leosilva/opt/anaconda3/lib/python3.7/site-packages (from protobuf>=3.0.0->mysql-connector-python) (1.14.0)\n",
      "Note: you may need to restart the kernel to use updated packages.\n"
     ]
    }
   ],
   "source": [
    "pip install mysql-connector-python"
   ]
  },
  {
   "cell_type": "code",
   "execution_count": 2,
   "metadata": {},
   "outputs": [],
   "source": [
    "import json\n",
    "\n",
    "# Enter your keys/secrets as strings in the following fields\n",
    "credentials = {}\n",
    "credentials['CONSUMER_KEY'] = \"nHAF4VfPXSFW4yBs8w2MKnNty\"\n",
    "credentials['CONSUMER_SECRET'] = \"ZnrJTcRKVq9pqrnLDFkeTZBrZ0z53av8cYwcLIXFzVM2xyFZHD\"\n",
    "credentials['ACCESS_TOKEN'] = \"AAAAAAAAAAAAAAAAAAAAAPiIKwEAAAAA9WtZ8uEanLGM0HIGREA3wQNj9aU%3DG14tlXfigXCmX5uY3JR5t85Lgr1WYHcJmAQKXw8GO1QGQu80Dw\"\n",
    "#credentials['ACCESS_SECRET'] = ..."
   ]
  },
  {
   "cell_type": "code",
   "execution_count": 3,
   "metadata": {},
   "outputs": [
    {
     "name": "stdout",
     "output_type": "stream",
     "text": [
      "Requirement already satisfied: tweepy in /Users/leosilva/opt/anaconda3/lib/python3.7/site-packages (3.9.0)\n",
      "Requirement already satisfied: requests-oauthlib>=0.7.0 in /Users/leosilva/opt/anaconda3/lib/python3.7/site-packages (from tweepy) (1.3.0)\n",
      "Requirement already satisfied: six>=1.10.0 in /Users/leosilva/opt/anaconda3/lib/python3.7/site-packages (from tweepy) (1.14.0)\n",
      "Requirement already satisfied: requests[socks]>=2.11.1 in /Users/leosilva/opt/anaconda3/lib/python3.7/site-packages (from tweepy) (2.22.0)\n",
      "Requirement already satisfied: oauthlib>=3.0.0 in /Users/leosilva/opt/anaconda3/lib/python3.7/site-packages (from requests-oauthlib>=0.7.0->tweepy) (3.1.0)\n",
      "Requirement already satisfied: idna<2.9,>=2.5 in /Users/leosilva/opt/anaconda3/lib/python3.7/site-packages (from requests[socks]>=2.11.1->tweepy) (2.8)\n",
      "Requirement already satisfied: chardet<3.1.0,>=3.0.2 in /Users/leosilva/opt/anaconda3/lib/python3.7/site-packages (from requests[socks]>=2.11.1->tweepy) (3.0.4)\n",
      "Requirement already satisfied: certifi>=2017.4.17 in /Users/leosilva/opt/anaconda3/lib/python3.7/site-packages (from requests[socks]>=2.11.1->tweepy) (2019.11.28)\n",
      "Requirement already satisfied: urllib3!=1.25.0,!=1.25.1,<1.26,>=1.21.1 in /Users/leosilva/opt/anaconda3/lib/python3.7/site-packages (from requests[socks]>=2.11.1->tweepy) (1.25.8)\n",
      "Requirement already satisfied: PySocks!=1.5.7,>=1.5.6; extra == \"socks\" in /Users/leosilva/opt/anaconda3/lib/python3.7/site-packages (from requests[socks]>=2.11.1->tweepy) (1.7.1)\n",
      "Note: you may need to restart the kernel to use updated packages.\n"
     ]
    }
   ],
   "source": [
    "pip install tweepy"
   ]
  },
  {
   "cell_type": "code",
   "execution_count": 222,
   "metadata": {},
   "outputs": [],
   "source": [
    "import tweepy #https://github.com/tweepy/tweepy\n",
    "import csv\n",
    "\n",
    "def get_all_tweets(screen_name):\n",
    "    #Twitter only allows access to a users most recent 3240 tweets with this method\n",
    "    \n",
    "    #authorize twitter, initialize tweepy\n",
    "    auth = tweepy.AppAuthHandler(credentials['CONSUMER_KEY'], credentials['CONSUMER_SECRET'])\n",
    "    api = tweepy.API(auth)\n",
    "    \n",
    "    #initialize a list to hold all the tweepy Tweets\n",
    "    alltweets = []  \n",
    "    \n",
    "    #make initial request for most recent tweets (200 is the maximum allowed count)\n",
    "    new_tweets = api.user_timeline(screen_name = screen_name,count=200)\n",
    "    \n",
    "    #save most recent tweets\n",
    "    alltweets.extend(new_tweets)\n",
    "    \n",
    "    #save the id of the oldest tweet less one\n",
    "    oldest = alltweets[-1].id - 1\n",
    "    \n",
    "    #keep grabbing tweets until there are no tweets left to grab\n",
    "    while len(new_tweets) > 0:\n",
    "        print(f\"getting tweets before {oldest}\")\n",
    "        \n",
    "        #all subsiquent requests use the max_id param to prevent duplicates\n",
    "        new_tweets = api.user_timeline(screen_name = screen_name,count=200,max_id=oldest)\n",
    "        \n",
    "        #save most recent tweets\n",
    "        alltweets.extend(new_tweets)\n",
    "        \n",
    "        #update the id of the oldest tweet less one\n",
    "        oldest = alltweets[-1].id - 1\n",
    "        \n",
    "        print(f\"...{len(alltweets)} tweets downloaded so far\")\n",
    "    \n",
    "    #transform the tweepy tweets into a 2D array that will populate the csv \n",
    "#     print(json.dumps(alltweets[5]._json, indent=2))\n",
    "#     outtweets = [[tweet.id_str, tweet.created_at, tweet.text] for tweet in alltweets]\n",
    "    \n",
    "    #write the csv  \n",
    "#     with open(f'/Users/leosilva/development/thesis/TwitterDataMining/tweets/{screen_name}_tweets.csv', 'w') as f:\n",
    "#         writer = csv.writer(f)\n",
    "#         writer.writerow([\"id\",\"created_at\",\"text\"])\n",
    "#         writer.writerows(outtweets)\n",
    "    \n",
    "#     pass\n",
    "\n",
    "    return alltweets"
   ]
  },
  {
   "cell_type": "code",
   "execution_count": 227,
   "metadata": {},
   "outputs": [],
   "source": [
    "import mysql.connector\n",
    "\n",
    "def get_connection():\n",
    "    connection = mysql.connector.connect(host = \"localhost\", user=\"root\", passwd=\"root\", db=\"TwitterDataMining\")\n",
    "    cursor = connection.cursor(buffered=True)\n",
    "    return [connection, cursor]"
   ]
  },
  {
   "cell_type": "code",
   "execution_count": 231,
   "metadata": {},
   "outputs": [],
   "source": [
    "import mysql.connector\n",
    "from datetime import datetime\n",
    "\n",
    "\n",
    "def store_tweets(alltweets):\n",
    "    print(\"init of store tweets function\")\n",
    "    connection, cursor = get_connection()\n",
    "    try:\n",
    "        cursor.execute(\"SET SESSION TRANSACTION ISOLATION LEVEL READ COMMITTED\")\n",
    "    except mysql.connector.Error as err:\n",
    "        print(err)\n",
    "        print(\"Error Code:\", err.errno)\n",
    "        print(\"SQLSTATE\", err.sqlstate)\n",
    "        print(\"Message\", err.msg)\n",
    "        cursor.close()\n",
    "        connection.close()\n",
    "\n",
    "    id_user = 0\n",
    "    user = None\n",
    "    \n",
    "    some_tweet = alltweets[0]\n",
    "    \n",
    "    id_str_user = some_tweet._json['user']['id_str']\n",
    "    try:\n",
    "        cursor.execute(\"SELECT id FROM User u WHERE u.id_str_twitter = '{}'\".format(id_str_user))\n",
    "        user = cursor.fetchone()\n",
    "    except mysql.connector.Error as err:\n",
    "        print(err)\n",
    "        print(\"Error Code:\", err.errno)\n",
    "        print(\"SQLSTATE\", err.sqlstate)\n",
    "        print(\"Message\", err.msg)\n",
    "        cursor.close()\n",
    "        connection.close()\n",
    "\n",
    "    if user is None:\n",
    "        name = some_tweet._json['user']['name']\n",
    "        screen_name = some_tweet._json['user']['screen_name']\n",
    "        created_at = some_tweet._json['user']['created_at']\n",
    "        date_time_obj = datetime.strptime(created_at, '%a %b %d %H:%M:%S %z %Y')\n",
    "        url = some_tweet._json['user']['url']\n",
    "        location = some_tweet._json['user']['location']\n",
    "        try:\n",
    "            cursor.execute(\"INSERT INTO User (id_str_twitter, name, screen_name, location, url, created_at) VALUES ('{}', '{}', '{}', '{}', '{}', '{}')\".format(id_str_user, name, screen_name, location, url, date_time_obj))\n",
    "            cursor.execute('SELECT last_insert_id()')\n",
    "            id_user = int(cursor.fetchone()[0])\n",
    "        except mysql.connector.Error as err:\n",
    "            print(err)\n",
    "            print(\"Error Code:\", err.errno)\n",
    "            print(\"SQLSTATE\", err.sqlstate)\n",
    "            print(\"Message\", err.msg)\n",
    "            cursor.close()\n",
    "            connection.close()\n",
    "    else:\n",
    "        id_user = int(user[0])\n",
    "\n",
    "        \n",
    "    for tweet in alltweets:\n",
    "        id_str_tweet = tweet._json['id_str']\n",
    "        try:\n",
    "            cursor.execute(\"SELECT id FROM Tweet t WHERE t.id_str_twitter = '{}'\".format(id_str_tweet))\n",
    "            existing_tweet = cursor.fetchone()\n",
    "        except mysql.connector.Error as err:\n",
    "            print(err)\n",
    "            print(\"Error Code:\", err.errno)\n",
    "            print(\"SQLSTATE\", err.sqlstate)\n",
    "            print(\"Message\", err.msg)\n",
    "            cursor.close()\n",
    "            connection.close()\n",
    "            break\n",
    "                       \n",
    "        if existing_tweet is None:\n",
    "            text = tweet._json['text'].replace(\"\\'\", \"\\\"\")\n",
    "            created_at = tweet._json['created_at']\n",
    "            date_time_obj = datetime.strptime(created_at, '%a %b %d %H:%M:%S %z %Y')\n",
    "            favorite_count = int(tweet._json['favorite_count'])\n",
    "            retweet_count = int(tweet._json['retweet_count'])\n",
    "            lang = tweet._json['lang']\n",
    "            try:\n",
    "                cursor.execute(\"INSERT INTO Tweet (id_str_twitter, text, created_at, favorite_count, retweet_count, lang, id_user) VALUES ('{}', '{}', '{}', {}, {}, '{}', {})\".format(id_str_tweet, text, date_time_obj, favorite_count, retweet_count, lang, id_user))\n",
    "            except mysql.connector.Error as err:\n",
    "                print(err)\n",
    "                print(\"Error Code:\", err.errno)\n",
    "                print(\"SQLSTATE\", err.sqlstate)\n",
    "                print(\"Message\", err.msg)\n",
    "                cursor.close()\n",
    "                connection.close()\n",
    "                break\n",
    "\n",
    "    connection.commit()\n",
    "    cursor.close()\n",
    "    connection.close()\n",
    "    print(\"end of store tweets function\")"
   ]
  },
  {
   "cell_type": "code",
   "execution_count": 226,
   "metadata": {
    "scrolled": false
   },
   "outputs": [
    {
     "name": "stdout",
     "output_type": "stream",
     "text": [
      "getting tweets before 1339385146856927246\n",
      "...400 tweets downloaded so far\n",
      "getting tweets before 1334566433116794883\n",
      "...600 tweets downloaded so far\n",
      "getting tweets before 1329008042726330373\n",
      "...800 tweets downloaded so far\n",
      "getting tweets before 1323943193541517316\n",
      "...1000 tweets downloaded so far\n",
      "getting tweets before 1318366405767692287\n",
      "...1199 tweets downloaded so far\n",
      "getting tweets before 1312758392923004929\n",
      "...1398 tweets downloaded so far\n",
      "getting tweets before 1310225811908296703\n",
      "...1598 tweets downloaded so far\n",
      "getting tweets before 1306589495567900674\n",
      "...1797 tweets downloaded so far\n",
      "getting tweets before 1303719359446224895\n",
      "...1996 tweets downloaded so far\n",
      "getting tweets before 1300051446700834816\n",
      "...2193 tweets downloaded so far\n",
      "getting tweets before 1297521292925706247\n",
      "...2393 tweets downloaded so far\n",
      "getting tweets before 1295533115520294911\n",
      "...2591 tweets downloaded so far\n",
      "getting tweets before 1293522668650627073\n",
      "...2790 tweets downloaded so far\n",
      "getting tweets before 1290464449699229695\n",
      "...2989 tweets downloaded so far\n",
      "getting tweets before 1287916073338261510\n",
      "...3188 tweets downloaded so far\n",
      "getting tweets before 1284662158966624260\n",
      "...3230 tweets downloaded so far\n",
      "getting tweets before 1284203525514375168\n",
      "...3230 tweets downloaded so far\n",
      "init of store tweets function\n",
      "end of store tweets function\n"
     ]
    }
   ],
   "source": [
    "alltweets = get_all_tweets(\"rponte\")\n",
    "store_tweets(alltweets)"
   ]
  },
  {
   "cell_type": "code",
   "execution_count": 251,
   "metadata": {},
   "outputs": [],
   "source": [
    "def get_last_date(screen_name):\n",
    "    connection, cursor = get_connection()\n",
    "\n",
    "    cursor.execute(\"SELECT id FROM User u WHERE u.screen_name = '{}'\".format(screen_name))\n",
    "    id_user = cursor.fetchone()\n",
    "\n",
    "    cursor.execute(\"SELECT created_at FROM Tweet t WHERE t.id_user = '{}' ORDER BY created_at\".format(id_user[0]))\n",
    "    last_date = cursor.fetchone()\n",
    "    return last_date[0]"
   ]
  },
  {
   "cell_type": "code",
   "execution_count": 257,
   "metadata": {},
   "outputs": [
    {
     "name": "stdout",
     "output_type": "stream",
     "text": [
      "<class 'datetime.datetime'>\n",
      "<class 'datetime.datetime'>\n",
      "last_date maior\n"
     ]
    }
   ],
   "source": [
    "last_date = get_last_date(\"adorilson\")\n",
    "print(type(last_date))\n",
    "base_date = datetime(2017, 1, 1)\n",
    "print(type(base_date))\n",
    "if last_date > base_date:\n",
    "    print(\"last_date maior\")"
   ]
  },
  {
   "cell_type": "code",
   "execution_count": null,
   "metadata": {},
   "outputs": [],
   "source": []
  }
 ],
 "metadata": {
  "kernelspec": {
   "display_name": "Python 3",
   "language": "python",
   "name": "python3"
  },
  "language_info": {
   "codemirror_mode": {
    "name": "ipython",
    "version": 3
   },
   "file_extension": ".py",
   "mimetype": "text/x-python",
   "name": "python",
   "nbconvert_exporter": "python",
   "pygments_lexer": "ipython3",
   "version": "3.7.6"
  }
 },
 "nbformat": 4,
 "nbformat_minor": 4
}
