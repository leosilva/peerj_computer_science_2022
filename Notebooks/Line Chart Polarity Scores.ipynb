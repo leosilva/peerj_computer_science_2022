{
 "cells": [
  {
   "cell_type": "code",
   "execution_count": 10,
   "id": "ccd27582",
   "metadata": {},
   "outputs": [],
   "source": [
    "import pandas as pd\n",
    "import numpy as np\n",
    "import matplotlib.pyplot as plt\n",
    "import datetime\n",
    "import random"
   ]
  },
  {
   "cell_type": "code",
   "execution_count": 11,
   "id": "704a6fbd",
   "metadata": {},
   "outputs": [
    {
     "name": "stdout",
     "output_type": "stream",
     "text": [
      "Starting script...\n",
      "Removing existing file...\n",
      "Ending script...\n"
     ]
    }
   ],
   "source": [
    "!python3 '/Users/leosilva/development/thesis/workspacePyCharm/TwitterDataMining/main_generate_json_files.py'"
   ]
  },
  {
   "cell_type": "code",
   "execution_count": 12,
   "id": "6f14e441",
   "metadata": {},
   "outputs": [
    {
     "data": {
      "text/html": [
       "<div>\n",
       "<style scoped>\n",
       "    .dataframe tbody tr th:only-of-type {\n",
       "        vertical-align: middle;\n",
       "    }\n",
       "\n",
       "    .dataframe tbody tr th {\n",
       "        vertical-align: top;\n",
       "    }\n",
       "\n",
       "    .dataframe thead th {\n",
       "        text-align: right;\n",
       "    }\n",
       "</style>\n",
       "<table border=\"1\" class=\"dataframe\">\n",
       "  <thead>\n",
       "    <tr style=\"text-align: right;\">\n",
       "      <th></th>\n",
       "      <th>26</th>\n",
       "      <th>27</th>\n",
       "      <th>28</th>\n",
       "      <th>29</th>\n",
       "      <th>30</th>\n",
       "      <th>31</th>\n",
       "      <th>32</th>\n",
       "      <th>33</th>\n",
       "      <th>34</th>\n",
       "      <th>35</th>\n",
       "      <th>36</th>\n",
       "    </tr>\n",
       "  </thead>\n",
       "  <tbody>\n",
       "    <tr>\n",
       "      <th>id_str_twitter</th>\n",
       "      <td>23781146</td>\n",
       "      <td>15148309</td>\n",
       "      <td>927028057763995648</td>\n",
       "      <td>77648005</td>\n",
       "      <td>3429765093</td>\n",
       "      <td>10794662</td>\n",
       "      <td>1034514325644431361</td>\n",
       "      <td>529445600</td>\n",
       "      <td>12050562</td>\n",
       "      <td>62314491</td>\n",
       "      <td>18289937</td>\n",
       "    </tr>\n",
       "    <tr>\n",
       "      <th>name</th>\n",
       "      <td>Fe Rebelatto</td>\n",
       "      <td>Sommelier de Airbnb</td>\n",
       "      <td>✪ Felippe</td>\n",
       "      <td>Conference Distinguished Specialist</td>\n",
       "      <td>Paula Santana</td>\n",
       "      <td>Maharaja of the Legacies</td>\n",
       "      <td>Jessica</td>\n",
       "      <td>var nickname = \"Riquettinha\";</td>\n",
       "      <td>Roberta Arcoverde</td>\n",
       "      <td>Gabriela</td>\n",
       "      <td>Thamara Andrade</td>\n",
       "    </tr>\n",
       "    <tr>\n",
       "      <th>screen_name</th>\n",
       "      <td>rebelatto</td>\n",
       "      <td>Guilh_rm_</td>\n",
       "      <td>FelippeRegazio</td>\n",
       "      <td>NannoKa</td>\n",
       "      <td>psanrosa13</td>\n",
       "      <td>rponte</td>\n",
       "      <td>dev_jessi</td>\n",
       "      <td>Riquettinha</td>\n",
       "      <td>rla4</td>\n",
       "      <td>Gabrielathalita</td>\n",
       "      <td>thamyk</td>\n",
       "    </tr>\n",
       "    <tr>\n",
       "      <th>location</th>\n",
       "      <td>Rio de Janeiro, Brasil</td>\n",
       "      <td>somewhere in Brazil</td>\n",
       "      <td></td>\n",
       "      <td>Ctba-PR Brasil</td>\n",
       "      <td>Brasil</td>\n",
       "      <td>Ceará, Brazil</td>\n",
       "      <td>São Paulo - Brasil</td>\n",
       "      <td>Belo Horizonte, Brasil</td>\n",
       "      <td>Sao Paulo, Brazil</td>\n",
       "      <td>Belo Horizonte</td>\n",
       "      <td>Belo Horizonte, Brazil.</td>\n",
       "    </tr>\n",
       "    <tr>\n",
       "      <th>url</th>\n",
       "      <td>None</td>\n",
       "      <td>https://t.co/gX4oRZWHg3</td>\n",
       "      <td>https://t.co/KkaPlVH4Wu</td>\n",
       "      <td>https://t.co/hDni4Fh2Ng</td>\n",
       "      <td>https://t.co/YJQuDtv2YW</td>\n",
       "      <td>https://t.co/3yZ94QNQvs</td>\n",
       "      <td>https://t.co/MtUeSEBICu</td>\n",
       "      <td>https://t.co/QU71LJgSuD</td>\n",
       "      <td>None</td>\n",
       "      <td>https://t.co/AmkOKWlftK</td>\n",
       "      <td>https://t.co/JWBzdmQOcV</td>\n",
       "    </tr>\n",
       "  </tbody>\n",
       "</table>\n",
       "</div>"
      ],
      "text/plain": [
       "                                    26                       27  \\\n",
       "id_str_twitter                23781146                 15148309   \n",
       "name                      Fe Rebelatto      Sommelier de Airbnb   \n",
       "screen_name                  rebelatto                Guilh_rm_   \n",
       "location        Rio de Janeiro, Brasil      somewhere in Brazil   \n",
       "url                               None  https://t.co/gX4oRZWHg3   \n",
       "\n",
       "                                     28                                   29  \\\n",
       "id_str_twitter       927028057763995648                             77648005   \n",
       "name                          ✪ Felippe  Conference Distinguished Specialist   \n",
       "screen_name              FelippeRegazio                              NannoKa   \n",
       "location                                                      Ctba-PR Brasil   \n",
       "url             https://t.co/KkaPlVH4Wu              https://t.co/hDni4Fh2Ng   \n",
       "\n",
       "                                     30                        31  \\\n",
       "id_str_twitter               3429765093                  10794662   \n",
       "name                      Paula Santana  Maharaja of the Legacies   \n",
       "screen_name                  psanrosa13                    rponte   \n",
       "location                         Brasil             Ceará, Brazil   \n",
       "url             https://t.co/YJQuDtv2YW   https://t.co/3yZ94QNQvs   \n",
       "\n",
       "                                     32                             33  \\\n",
       "id_str_twitter      1034514325644431361                      529445600   \n",
       "name                            Jessica  var nickname = \"Riquettinha\";   \n",
       "screen_name                   dev_jessi                    Riquettinha   \n",
       "location             São Paulo - Brasil         Belo Horizonte, Brasil   \n",
       "url             https://t.co/MtUeSEBICu        https://t.co/QU71LJgSuD   \n",
       "\n",
       "                               34                       35  \\\n",
       "id_str_twitter           12050562                 62314491   \n",
       "name            Roberta Arcoverde                 Gabriela   \n",
       "screen_name                  rla4          Gabrielathalita   \n",
       "location        Sao Paulo, Brazil           Belo Horizonte   \n",
       "url                          None  https://t.co/AmkOKWlftK   \n",
       "\n",
       "                                     36  \n",
       "id_str_twitter                 18289937  \n",
       "name                    Thamara Andrade  \n",
       "screen_name                      thamyk  \n",
       "location        Belo Horizonte, Brazil.  \n",
       "url             https://t.co/JWBzdmQOcV  "
      ]
     },
     "execution_count": 12,
     "metadata": {},
     "output_type": "execute_result"
    }
   ],
   "source": [
    "data = pd.read_json(r'/Users/leosilva/development/thesis/workspacePyCharm/TwitterDataMining/alldata.json')\n",
    "data.head()"
   ]
  },
  {
   "cell_type": "code",
   "execution_count": 13,
   "id": "251308ae",
   "metadata": {},
   "outputs": [],
   "source": [
    "def create_tweets_pd(data, id_user):\n",
    "\n",
    "    tweets_by_month = {}\n",
    "\n",
    "    tweets_pd = pd.DataFrame(data[id_user]['tweets'])\n",
    "    del tweets_pd[0]\n",
    "    del tweets_pd[1]\n",
    "    del tweets_pd[4]\n",
    "    del tweets_pd[5]\n",
    "    del tweets_pd[6]\n",
    "    del tweets_pd[18]\n",
    "    \n",
    "    tweets_pd.columns = [\"text\", \"created_at\", \"id_user\", \"vader_sentiment_analysis_score\", \"vader_sentiment_analysis_polarity\",\n",
    "                         \"oplexicon_sentiment_analysis_score\", \"oplexicon_sentiment_analysis_polarity\",\n",
    "                         \"sentistrength_sentiment_analysis_score\", \"sentistrength_sentiment_analysis_polarity\",\n",
    "                         \"sentilexpt_sentiment_analysis_score\", \"sentilexpt_sentiment_analysis_polarity\",\n",
    "                         \"final_score\", \"final_polarity\"]\n",
    " \n",
    "    return tweets_pd"
   ]
  },
  {
   "cell_type": "code",
   "execution_count": 14,
   "id": "970cdca7",
   "metadata": {},
   "outputs": [],
   "source": [
    "def create_line_plot(df_result, id_user):\n",
    "    df_result[\"created_at\"] = pd.to_datetime(df_result[\"created_at\"])\n",
    "    df_result['date_minus_time'] = df_result[\"created_at\"].apply( lambda df_result : datetime.datetime(year=df_result.year, month=df_result.month, day=df_result.day))\n",
    "    df_result.set_index(df_result[\"date_minus_time\"],inplace=True)\n",
    "\n",
    "    new_df = pd.DataFrame(df_result['final_score'].resample('W').mean())\n",
    "\n",
    "    new_df['week'] = range(1, len(new_df.index) + 1)\n",
    "\n",
    "    x = new_df[\"week\"]\n",
    "    y = new_df[\"final_score\"]\n",
    "\n",
    "    tickvalues = range(0, int(len(x)), 2)\n",
    "\n",
    "    if len(tickvalues) > len(x[1::2]):\n",
    "        tickvalues = range(0, int(len(x)) - (len(tickvalues) - len(x[1::2])), 2)\n",
    "\n",
    "    fig = plt.figure(figsize=(16,6))\n",
    "\n",
    "    plt.xticks(ticks = tickvalues ,labels = x[1::2], rotation = 'vertical')\n",
    "\n",
    "    plt.title(\"Tweets polarity per week - Participant {}\".format(id_user))\n",
    "    plt.ylabel(\"Polarity\")\n",
    "    plt.xlabel(\"Weeks\")\n",
    "\n",
    "    plt.axhline(y.mean(), color='k', linestyle='dashed', linewidth=1)\n",
    "    min_ylim, max_ylim = plt.ylim()\n",
    "    plt.text(y.mean()*0.05, max_ylim*0.12, 'Mean: {:.2f}'.format(y.mean()))\n",
    "\n",
    "    plt.plot(x,y)"
   ]
  },
  {
   "cell_type": "code",
   "execution_count": 18,
   "id": "1704e757",
   "metadata": {},
   "outputs": [
    {
     "ename": "DataError",
     "evalue": "No numeric types to aggregate",
     "output_type": "error",
     "traceback": [
      "\u001b[0;31m---------------------------------------------------------------------------\u001b[0m",
      "\u001b[0;31mDataError\u001b[0m                                 Traceback (most recent call last)",
      "\u001b[0;32m<ipython-input-18-aac11ac6d39c>\u001b[0m in \u001b[0;36m<module>\u001b[0;34m\u001b[0m\n\u001b[1;32m      3\u001b[0m     \u001b[0mtweets_pd\u001b[0m \u001b[0;34m=\u001b[0m \u001b[0mcreate_tweets_pd\u001b[0m\u001b[0;34m(\u001b[0m\u001b[0mdata\u001b[0m\u001b[0;34m,\u001b[0m \u001b[0mid_user\u001b[0m\u001b[0;34m)\u001b[0m\u001b[0;34m\u001b[0m\u001b[0;34m\u001b[0m\u001b[0m\n\u001b[1;32m      4\u001b[0m \u001b[0;34m\u001b[0m\u001b[0m\n\u001b[0;32m----> 5\u001b[0;31m     \u001b[0mcreate_line_plot\u001b[0m\u001b[0;34m(\u001b[0m\u001b[0mtweets_pd\u001b[0m\u001b[0;34m,\u001b[0m \u001b[0mid_user\u001b[0m\u001b[0;34m)\u001b[0m\u001b[0;34m\u001b[0m\u001b[0;34m\u001b[0m\u001b[0m\n\u001b[0m",
      "\u001b[0;32m<ipython-input-14-e2aebd795b99>\u001b[0m in \u001b[0;36mcreate_line_plot\u001b[0;34m(df_result, id_user)\u001b[0m\n\u001b[1;32m      4\u001b[0m     \u001b[0mdf_result\u001b[0m\u001b[0;34m.\u001b[0m\u001b[0mset_index\u001b[0m\u001b[0;34m(\u001b[0m\u001b[0mdf_result\u001b[0m\u001b[0;34m[\u001b[0m\u001b[0;34m\"date_minus_time\"\u001b[0m\u001b[0;34m]\u001b[0m\u001b[0;34m,\u001b[0m\u001b[0minplace\u001b[0m\u001b[0;34m=\u001b[0m\u001b[0;32mTrue\u001b[0m\u001b[0;34m)\u001b[0m\u001b[0;34m\u001b[0m\u001b[0;34m\u001b[0m\u001b[0m\n\u001b[1;32m      5\u001b[0m \u001b[0;34m\u001b[0m\u001b[0m\n\u001b[0;32m----> 6\u001b[0;31m     \u001b[0mnew_df\u001b[0m \u001b[0;34m=\u001b[0m \u001b[0mpd\u001b[0m\u001b[0;34m.\u001b[0m\u001b[0mDataFrame\u001b[0m\u001b[0;34m(\u001b[0m\u001b[0mdf_result\u001b[0m\u001b[0;34m[\u001b[0m\u001b[0;34m'final_score'\u001b[0m\u001b[0;34m]\u001b[0m\u001b[0;34m.\u001b[0m\u001b[0mresample\u001b[0m\u001b[0;34m(\u001b[0m\u001b[0;34m'W'\u001b[0m\u001b[0;34m)\u001b[0m\u001b[0;34m.\u001b[0m\u001b[0mmean\u001b[0m\u001b[0;34m(\u001b[0m\u001b[0;34m)\u001b[0m\u001b[0;34m)\u001b[0m\u001b[0;34m\u001b[0m\u001b[0;34m\u001b[0m\u001b[0m\n\u001b[0m\u001b[1;32m      7\u001b[0m \u001b[0;34m\u001b[0m\u001b[0m\n\u001b[1;32m      8\u001b[0m     \u001b[0mnew_df\u001b[0m\u001b[0;34m[\u001b[0m\u001b[0;34m'week'\u001b[0m\u001b[0;34m]\u001b[0m \u001b[0;34m=\u001b[0m \u001b[0mrange\u001b[0m\u001b[0;34m(\u001b[0m\u001b[0;36m1\u001b[0m\u001b[0;34m,\u001b[0m \u001b[0mlen\u001b[0m\u001b[0;34m(\u001b[0m\u001b[0mnew_df\u001b[0m\u001b[0;34m.\u001b[0m\u001b[0mindex\u001b[0m\u001b[0;34m)\u001b[0m \u001b[0;34m+\u001b[0m \u001b[0;36m1\u001b[0m\u001b[0;34m)\u001b[0m\u001b[0;34m\u001b[0m\u001b[0;34m\u001b[0m\u001b[0m\n",
      "\u001b[0;32m~/opt/anaconda3/lib/python3.7/site-packages/pandas/core/resample.py\u001b[0m in \u001b[0;36mg\u001b[0;34m(self, _method, *args, **kwargs)\u001b[0m\n\u001b[1;32m    966\u001b[0m     \u001b[0;32mdef\u001b[0m \u001b[0mg\u001b[0m\u001b[0;34m(\u001b[0m\u001b[0mself\u001b[0m\u001b[0;34m,\u001b[0m \u001b[0m_method\u001b[0m\u001b[0;34m=\u001b[0m\u001b[0mmethod\u001b[0m\u001b[0;34m,\u001b[0m \u001b[0;34m*\u001b[0m\u001b[0margs\u001b[0m\u001b[0;34m,\u001b[0m \u001b[0;34m**\u001b[0m\u001b[0mkwargs\u001b[0m\u001b[0;34m)\u001b[0m\u001b[0;34m:\u001b[0m\u001b[0;34m\u001b[0m\u001b[0;34m\u001b[0m\u001b[0m\n\u001b[1;32m    967\u001b[0m         \u001b[0mnv\u001b[0m\u001b[0;34m.\u001b[0m\u001b[0mvalidate_resampler_func\u001b[0m\u001b[0;34m(\u001b[0m\u001b[0m_method\u001b[0m\u001b[0;34m,\u001b[0m \u001b[0margs\u001b[0m\u001b[0;34m,\u001b[0m \u001b[0mkwargs\u001b[0m\u001b[0;34m)\u001b[0m\u001b[0;34m\u001b[0m\u001b[0;34m\u001b[0m\u001b[0m\n\u001b[0;32m--> 968\u001b[0;31m         \u001b[0;32mreturn\u001b[0m \u001b[0mself\u001b[0m\u001b[0;34m.\u001b[0m\u001b[0m_downsample\u001b[0m\u001b[0;34m(\u001b[0m\u001b[0m_method\u001b[0m\u001b[0;34m)\u001b[0m\u001b[0;34m\u001b[0m\u001b[0;34m\u001b[0m\u001b[0m\n\u001b[0m\u001b[1;32m    969\u001b[0m \u001b[0;34m\u001b[0m\u001b[0m\n\u001b[1;32m    970\u001b[0m     \u001b[0mg\u001b[0m\u001b[0;34m.\u001b[0m\u001b[0m__doc__\u001b[0m \u001b[0;34m=\u001b[0m \u001b[0mgetattr\u001b[0m\u001b[0;34m(\u001b[0m\u001b[0mGroupBy\u001b[0m\u001b[0;34m,\u001b[0m \u001b[0mmethod\u001b[0m\u001b[0;34m)\u001b[0m\u001b[0;34m.\u001b[0m\u001b[0m__doc__\u001b[0m\u001b[0;34m\u001b[0m\u001b[0;34m\u001b[0m\u001b[0m\n",
      "\u001b[0;32m~/opt/anaconda3/lib/python3.7/site-packages/pandas/core/resample.py\u001b[0m in \u001b[0;36m_downsample\u001b[0;34m(self, how, **kwargs)\u001b[0m\n\u001b[1;32m   1078\u001b[0m         \u001b[0;31m# we are downsampling\u001b[0m\u001b[0;34m\u001b[0m\u001b[0;34m\u001b[0m\u001b[0;34m\u001b[0m\u001b[0m\n\u001b[1;32m   1079\u001b[0m         \u001b[0;31m# we want to call the actual grouper method here\u001b[0m\u001b[0;34m\u001b[0m\u001b[0;34m\u001b[0m\u001b[0;34m\u001b[0m\u001b[0m\n\u001b[0;32m-> 1080\u001b[0;31m         \u001b[0mresult\u001b[0m \u001b[0;34m=\u001b[0m \u001b[0mobj\u001b[0m\u001b[0;34m.\u001b[0m\u001b[0mgroupby\u001b[0m\u001b[0;34m(\u001b[0m\u001b[0mself\u001b[0m\u001b[0;34m.\u001b[0m\u001b[0mgrouper\u001b[0m\u001b[0;34m,\u001b[0m \u001b[0maxis\u001b[0m\u001b[0;34m=\u001b[0m\u001b[0mself\u001b[0m\u001b[0;34m.\u001b[0m\u001b[0maxis\u001b[0m\u001b[0;34m)\u001b[0m\u001b[0;34m.\u001b[0m\u001b[0maggregate\u001b[0m\u001b[0;34m(\u001b[0m\u001b[0mhow\u001b[0m\u001b[0;34m,\u001b[0m \u001b[0;34m**\u001b[0m\u001b[0mkwargs\u001b[0m\u001b[0;34m)\u001b[0m\u001b[0;34m\u001b[0m\u001b[0;34m\u001b[0m\u001b[0m\n\u001b[0m\u001b[1;32m   1081\u001b[0m \u001b[0;34m\u001b[0m\u001b[0m\n\u001b[1;32m   1082\u001b[0m         \u001b[0mresult\u001b[0m \u001b[0;34m=\u001b[0m \u001b[0mself\u001b[0m\u001b[0;34m.\u001b[0m\u001b[0m_apply_loffset\u001b[0m\u001b[0;34m(\u001b[0m\u001b[0mresult\u001b[0m\u001b[0;34m)\u001b[0m\u001b[0;34m\u001b[0m\u001b[0;34m\u001b[0m\u001b[0m\n",
      "\u001b[0;32m~/opt/anaconda3/lib/python3.7/site-packages/pandas/core/groupby/generic.py\u001b[0m in \u001b[0;36maggregate\u001b[0;34m(self, func, engine, engine_kwargs, *args, **kwargs)\u001b[0m\n\u001b[1;32m    239\u001b[0m \u001b[0;34m\u001b[0m\u001b[0m\n\u001b[1;32m    240\u001b[0m         \u001b[0;32mif\u001b[0m \u001b[0misinstance\u001b[0m\u001b[0;34m(\u001b[0m\u001b[0mfunc\u001b[0m\u001b[0;34m,\u001b[0m \u001b[0mstr\u001b[0m\u001b[0;34m)\u001b[0m\u001b[0;34m:\u001b[0m\u001b[0;34m\u001b[0m\u001b[0;34m\u001b[0m\u001b[0m\n\u001b[0;32m--> 241\u001b[0;31m             \u001b[0;32mreturn\u001b[0m \u001b[0mgetattr\u001b[0m\u001b[0;34m(\u001b[0m\u001b[0mself\u001b[0m\u001b[0;34m,\u001b[0m \u001b[0mfunc\u001b[0m\u001b[0;34m)\u001b[0m\u001b[0;34m(\u001b[0m\u001b[0;34m*\u001b[0m\u001b[0margs\u001b[0m\u001b[0;34m,\u001b[0m \u001b[0;34m**\u001b[0m\u001b[0mkwargs\u001b[0m\u001b[0;34m)\u001b[0m\u001b[0;34m\u001b[0m\u001b[0;34m\u001b[0m\u001b[0m\n\u001b[0m\u001b[1;32m    242\u001b[0m \u001b[0;34m\u001b[0m\u001b[0m\n\u001b[1;32m    243\u001b[0m         \u001b[0;32melif\u001b[0m \u001b[0misinstance\u001b[0m\u001b[0;34m(\u001b[0m\u001b[0mfunc\u001b[0m\u001b[0;34m,\u001b[0m \u001b[0mabc\u001b[0m\u001b[0;34m.\u001b[0m\u001b[0mIterable\u001b[0m\u001b[0;34m)\u001b[0m\u001b[0;34m:\u001b[0m\u001b[0;34m\u001b[0m\u001b[0;34m\u001b[0m\u001b[0m\n",
      "\u001b[0;32m~/opt/anaconda3/lib/python3.7/site-packages/pandas/core/groupby/groupby.py\u001b[0m in \u001b[0;36mmean\u001b[0;34m(self, numeric_only)\u001b[0m\n\u001b[1;32m   1497\u001b[0m             \u001b[0;34m\"mean\"\u001b[0m\u001b[0;34m,\u001b[0m\u001b[0;34m\u001b[0m\u001b[0;34m\u001b[0m\u001b[0m\n\u001b[1;32m   1498\u001b[0m             \u001b[0malt\u001b[0m\u001b[0;34m=\u001b[0m\u001b[0;32mlambda\u001b[0m \u001b[0mx\u001b[0m\u001b[0;34m,\u001b[0m \u001b[0maxis\u001b[0m\u001b[0;34m:\u001b[0m \u001b[0mSeries\u001b[0m\u001b[0;34m(\u001b[0m\u001b[0mx\u001b[0m\u001b[0;34m)\u001b[0m\u001b[0;34m.\u001b[0m\u001b[0mmean\u001b[0m\u001b[0;34m(\u001b[0m\u001b[0mnumeric_only\u001b[0m\u001b[0;34m=\u001b[0m\u001b[0mnumeric_only\u001b[0m\u001b[0;34m)\u001b[0m\u001b[0;34m,\u001b[0m\u001b[0;34m\u001b[0m\u001b[0;34m\u001b[0m\u001b[0m\n\u001b[0;32m-> 1499\u001b[0;31m             \u001b[0mnumeric_only\u001b[0m\u001b[0;34m=\u001b[0m\u001b[0mnumeric_only\u001b[0m\u001b[0;34m,\u001b[0m\u001b[0;34m\u001b[0m\u001b[0;34m\u001b[0m\u001b[0m\n\u001b[0m\u001b[1;32m   1500\u001b[0m         )\n\u001b[1;32m   1501\u001b[0m \u001b[0;34m\u001b[0m\u001b[0m\n",
      "\u001b[0;32m~/opt/anaconda3/lib/python3.7/site-packages/pandas/core/groupby/groupby.py\u001b[0m in \u001b[0;36m_cython_agg_general\u001b[0;34m(self, how, alt, numeric_only, min_count)\u001b[0m\n\u001b[1;32m   1079\u001b[0m \u001b[0;34m\u001b[0m\u001b[0m\n\u001b[1;32m   1080\u001b[0m         \u001b[0;32mif\u001b[0m \u001b[0;32mnot\u001b[0m \u001b[0moutput\u001b[0m\u001b[0;34m:\u001b[0m\u001b[0;34m\u001b[0m\u001b[0;34m\u001b[0m\u001b[0m\n\u001b[0;32m-> 1081\u001b[0;31m             \u001b[0;32mraise\u001b[0m \u001b[0mDataError\u001b[0m\u001b[0;34m(\u001b[0m\u001b[0;34m\"No numeric types to aggregate\"\u001b[0m\u001b[0;34m)\u001b[0m\u001b[0;34m\u001b[0m\u001b[0;34m\u001b[0m\u001b[0m\n\u001b[0m\u001b[1;32m   1082\u001b[0m \u001b[0;34m\u001b[0m\u001b[0m\n\u001b[1;32m   1083\u001b[0m         \u001b[0;32mreturn\u001b[0m \u001b[0mself\u001b[0m\u001b[0;34m.\u001b[0m\u001b[0m_wrap_aggregated_output\u001b[0m\u001b[0;34m(\u001b[0m\u001b[0moutput\u001b[0m\u001b[0;34m,\u001b[0m \u001b[0mindex\u001b[0m\u001b[0;34m=\u001b[0m\u001b[0mself\u001b[0m\u001b[0;34m.\u001b[0m\u001b[0mgrouper\u001b[0m\u001b[0;34m.\u001b[0m\u001b[0mresult_index\u001b[0m\u001b[0;34m)\u001b[0m\u001b[0;34m\u001b[0m\u001b[0;34m\u001b[0m\u001b[0m\n",
      "\u001b[0;31mDataError\u001b[0m: No numeric types to aggregate"
     ]
    }
   ],
   "source": [
    "for c in data:\n",
    "    id_user = c\n",
    "    tweets_pd = create_tweets_pd(data, id_user)\n",
    "    \n",
    "    create_line_plot(tweets_pd, id_user)"
   ]
  },
  {
   "cell_type": "code",
   "execution_count": null,
   "id": "dd0d81ba",
   "metadata": {},
   "outputs": [],
   "source": [
    "df_dict = {'id_user' : [],\n",
    "            'pos' : [],\n",
    "            'neu' : [],\n",
    "            'neg' : [],\n",
    "            'por_pos' : [],\n",
    "            'por_neu' : [],\n",
    "            'por_neg' : [],\n",
    "          }\n",
    "\n",
    "for c in data:\n",
    "    id_user = c\n",
    "    print('id_user: {}'.format(id_user))\n",
    "    print('lexicon: all')\n",
    "    tweets_pd = create_tweets_pd(data, id_user)\n",
    "    vader_df = tweets_pd[['id_user', 'final_score', 'final_polarity']].copy()\n",
    "    print('mean: {}'.format(vader_df['final_score'].mean()))\n",
    "    qtd_pos = vader_df.query('final_polarity == \"pos\"')['id_user'].count()\n",
    "    qtd_neu = vader_df.query('final_polarity == \"neu\"')['id_user'].count()\n",
    "    qtd_neg = vader_df.query('final_polarity == \"neg\"')['id_user'].count()\n",
    "    qtd_total = vader_df['final_polarity'].count()\n",
    "    print('pos: {}'.format(qtd_pos))\n",
    "    print('neu: {}'.format(qtd_neu))\n",
    "    print('neg: {}'.format(qtd_neg))\n",
    "    print('% pos: {}'.format((qtd_pos / qtd_total) * 100))\n",
    "    print('% neu: {}'.format((qtd_neu / qtd_total) * 100))\n",
    "    print('% neg: {}'.format((qtd_neg / qtd_total) * 100))\n",
    "    print('')\n",
    "    df_dict['id_user'].append(id_user)\n",
    "    df_dict['pos'].append(qtd_pos)\n",
    "    df_dict['neu'].append(qtd_neu)\n",
    "    df_dict['neg'].append(qtd_neg)\n",
    "    df_dict['por_pos'].append((qtd_pos / qtd_total) * 100)\n",
    "    df_dict['por_neu'].append((qtd_neu / qtd_total) * 100)\n",
    "    df_dict['por_neg'].append((qtd_neg / qtd_total) * 100)\n",
    "\n",
    "df_chart = pd.DataFrame(df_dict)\n",
    "df_chart.head()\n",
    "    "
   ]
  },
  {
   "cell_type": "code",
   "execution_count": 16,
   "id": "f394ba0a",
   "metadata": {},
   "outputs": [
    {
     "data": {
      "image/png": "[encoded data removed]",
      "text/plain": [
       "<Figure size 1008x720 with 1 Axes>"
      ]
     },
     "metadata": {
      "needs_background": "light"
     },
     "output_type": "display_data"
    }
   ],
   "source": [
    "# multiple line plots\n",
    "\n",
    "bar_chart_data = []\n",
    "\n",
    "y_range = range(0,6001, 500)\n",
    "\n",
    "for i in df_chart.index:\n",
    "    d = ['P{}'.format(i), df_chart.iloc[i]['pos'], df_chart.iloc[i]['neu'], df_chart.iloc[i]['neg']]\n",
    "    bar_chart_data.append(d)\n",
    "\n",
    "df = pd.DataFrame(bar_chart_data, columns=[\"Participant\",\"pos\",\"neu\",\"neg\"])\n",
    "df.plot(yticks = y_range, x=\"Participant\", y=[\"pos\", \"neu\", \"neg\"], kind=\"bar\",figsize=(14,10))\n",
    "\n",
    "plt.legend([\"Positive\", \"Neutral\", \"Negative\"])\n",
    "plt.title('Tweets Polarity')\n",
    "plt.xlabel('Participants')\n",
    "plt.ylabel('Tweets')\n",
    "\n",
    "plt.show()"
   ]
  },
  {
   "cell_type": "code",
   "execution_count": 17,
   "id": "4c13e341",
   "metadata": {},
   "outputs": [
    {
     "data": {
      "image/png": "[encoded data removed]",
      "text/plain": [
       "<Figure size 1008x720 with 1 Axes>"
      ]
     },
     "metadata": {
      "needs_background": "light"
     },
     "output_type": "display_data"
    }
   ],
   "source": [
    "# multiple line plots\n",
    "\n",
    "bar_chart_data = []\n",
    "\n",
    "y_range = range(0, 70, 5)\n",
    "\n",
    "for i in df_chart.index:\n",
    "    d = ['P{}'.format(i), df_chart.iloc[i]['por_pos'], df_chart.iloc[i]['por_neu'], df_chart.iloc[i]['por_neg']]\n",
    "    bar_chart_data.append(d)\n",
    "\n",
    "df = pd.DataFrame(bar_chart_data, columns=[\"Participant\",\"por_pos\",\"por_neu\",\"por_neg\"])\n",
    "df.plot(yticks = y_range, x=\"Participant\", y=[\"por_pos\", \"por_neu\", \"por_neg\"], kind=\"bar\",figsize=(14,10))\n",
    "\n",
    "\n",
    "plt.legend(['% Positive', '% Neutral', '% Negative'])\n",
    "plt.title('Tweets Polarity - Percentage')\n",
    "plt.xlabel('Participants')\n",
    "plt.ylabel('Percentage')\n",
    "\n",
    "plt.show()"
   ]
  },
  {
   "cell_type": "code",
   "execution_count": null,
   "id": "7130f851",
   "metadata": {},
   "outputs": [],
   "source": []
  }
 ],
 "metadata": {
  "kernelspec": {
   "display_name": "Python 3",
   "language": "python",
   "name": "python3"
  },
  "language_info": {
   "codemirror_mode": {
    "name": "ipython",
    "version": 3
   },
   "file_extension": ".py",
   "mimetype": "text/x-python",
   "name": "python",
   "nbconvert_exporter": "python",
   "pygments_lexer": "ipython3",
   "version": "3.7.6"
  }
 },
 "nbformat": 4,
 "nbformat_minor": 5
}
