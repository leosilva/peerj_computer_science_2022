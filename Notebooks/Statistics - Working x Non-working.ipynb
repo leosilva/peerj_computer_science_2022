{
 "cells": [
  {
   "cell_type": "code",
   "execution_count": 90,
   "id": "432dce6e",
   "metadata": {},
   "outputs": [],
   "source": [
    "import pandas as pd\n",
    "import numpy as np\n",
    "import matplotlib.pyplot as plt\n",
    "import datetime\n",
    "import random\n",
    "import statistics\n",
    "from math import pi\n",
    "from matplotlib.gridspec import GridSpec\n",
    "from dateutil.relativedelta import *\n",
    "import matplotlib.dates as mdates\n",
    "from matplotlib.dates import DateFormatter\n",
    "import seaborn as sns\n",
    "import scipy.stats as sts\n",
    "import pingouin as pg\n",
    "import scipy.stats as stats\n",
    "from statsmodels.formula.api import ols\n",
    "import statsmodels.api as sm\n",
    "from statsmodels.stats.multicomp import pairwise_tukeyhsd\n",
    "from mpl_toolkits.mplot3d import Axes3D\n",
    "import sklearn.metrics as me\n",
    "from sklearn.model_selection import train_test_split\n",
    "from scipy.stats import boxcox\n",
    "from sklearn.model_selection import cross_val_score, cross_val_predict, RepeatedKFold \n",
    "from sklearn.linear_model import LinearRegression, LogisticRegression\n",
    "from collections import Counter\n",
    "import copy\n",
    "from sklearn.model_selection import KFold\n",
    "from sklearn.preprocessing import StandardScaler"
   ]
  },
  {
   "cell_type": "code",
   "execution_count": 91,
   "id": "d33c8d3e",
   "metadata": {},
   "outputs": [
    {
     "name": "stdout",
     "output_type": "stream",
     "text": [
      "Starting script...\n",
      "Removing existing file...\n",
      "Ending script...\n"
     ]
    }
   ],
   "source": [
    "!python3 '/Users/leosilva/development/thesis/workspacePyCharm/TwitterDataMining/main_generate_json_files.py' --all_tweets True"
   ]
  },
  {
   "cell_type": "code",
   "execution_count": 92,
   "id": "98e0a43b",
   "metadata": {},
   "outputs": [
    {
     "data": {
      "text/html": [
       "<div>\n",
       "<style scoped>\n",
       "    .dataframe tbody tr th:only-of-type {\n",
       "        vertical-align: middle;\n",
       "    }\n",
       "\n",
       "    .dataframe tbody tr th {\n",
       "        vertical-align: top;\n",
       "    }\n",
       "\n",
       "    .dataframe thead th {\n",
       "        text-align: right;\n",
       "    }\n",
       "</style>\n",
       "<table border=\"1\" class=\"dataframe\">\n",
       "  <thead>\n",
       "    <tr style=\"text-align: right;\">\n",
       "      <th></th>\n",
       "      <th>26</th>\n",
       "      <th>27</th>\n",
       "      <th>28</th>\n",
       "      <th>29</th>\n",
       "      <th>30</th>\n",
       "      <th>31</th>\n",
       "      <th>32</th>\n",
       "      <th>33</th>\n",
       "      <th>34</th>\n",
       "      <th>35</th>\n",
       "      <th>36</th>\n",
       "      <th>37</th>\n",
       "      <th>38</th>\n",
       "      <th>39</th>\n",
       "      <th>40</th>\n",
       "      <th>41</th>\n",
       "      <th>42</th>\n",
       "      <th>43</th>\n",
       "      <th>44</th>\n",
       "    </tr>\n",
       "  </thead>\n",
       "  <tbody>\n",
       "    <tr>\n",
       "      <th>id_str_twitter</th>\n",
       "      <td>23781146</td>\n",
       "      <td>15148309</td>\n",
       "      <td>927028057763995648</td>\n",
       "      <td>77648005</td>\n",
       "      <td>3429765093</td>\n",
       "      <td>10794662</td>\n",
       "      <td>1034514325644431361</td>\n",
       "      <td>529445600</td>\n",
       "      <td>12050562</td>\n",
       "      <td>62314491</td>\n",
       "      <td>18289937</td>\n",
       "      <td>172880784</td>\n",
       "      <td>18609547</td>\n",
       "      <td>2164986296</td>\n",
       "      <td>1026783544457273345</td>\n",
       "      <td>109604376</td>\n",
       "      <td>1040939562774790144</td>\n",
       "      <td>69734383</td>\n",
       "      <td>119897261</td>\n",
       "    </tr>\n",
       "    <tr>\n",
       "      <th>participant_id</th>\n",
       "      <td>1</td>\n",
       "      <td>2</td>\n",
       "      <td>3</td>\n",
       "      <td>None</td>\n",
       "      <td>4</td>\n",
       "      <td>5</td>\n",
       "      <td>6</td>\n",
       "      <td>None</td>\n",
       "      <td>7</td>\n",
       "      <td>8</td>\n",
       "      <td>None</td>\n",
       "      <td>9</td>\n",
       "      <td>10</td>\n",
       "      <td>11</td>\n",
       "      <td>12</td>\n",
       "      <td>13</td>\n",
       "      <td>14</td>\n",
       "      <td>15</td>\n",
       "      <td>16</td>\n",
       "    </tr>\n",
       "    <tr>\n",
       "      <th>name</th>\n",
       "      <td>Fe Rebelatto</td>\n",
       "      <td>Sommelier de Airbnb</td>\n",
       "      <td>✪ Felippe</td>\n",
       "      <td>Conference Distinguished Specialist</td>\n",
       "      <td>Paula Santana</td>\n",
       "      <td>Maharaja of the Legacies</td>\n",
       "      <td>Jessica</td>\n",
       "      <td>var nickname = \"Riquettinha\";</td>\n",
       "      <td>Roberta Arcoverde</td>\n",
       "      <td>Gabriela</td>\n",
       "      <td>Thamara Andrade</td>\n",
       "      <td>felipe.ts ⚡</td>\n",
       "      <td>Juan Lopes</td>\n",
       "      <td>Rafael Dantas</td>\n",
       "      <td>iagor com i</td>\n",
       "      <td>T̷o̷m̷o̷y̷o̷ ̷ F̷u̷r̷a̷c̷ã̷o̷</td>\n",
       "      <td>Esdras Xavier</td>\n",
       "      <td>belle-🏴.dev || twitch.tv/bellesamways</td>\n",
       "      <td>Willian Justen</td>\n",
       "    </tr>\n",
       "    <tr>\n",
       "      <th>screen_name</th>\n",
       "      <td>rebelatto</td>\n",
       "      <td>Guilh_rm_</td>\n",
       "      <td>FelippeRegazio</td>\n",
       "      <td>NannoKa</td>\n",
       "      <td>psanrosa13</td>\n",
       "      <td>rponte</td>\n",
       "      <td>dev_jessi</td>\n",
       "      <td>Riquettinha</td>\n",
       "      <td>rla4</td>\n",
       "      <td>Gabrielathalita</td>\n",
       "      <td>thamyk</td>\n",
       "      <td>felipefialho_</td>\n",
       "      <td>juanplopes</td>\n",
       "      <td>RaffaelDantass</td>\n",
       "      <td>Iagor51</td>\n",
       "      <td>RafaelMansilha</td>\n",
       "      <td>esdras_xavieer</td>\n",
       "      <td>bellesamways</td>\n",
       "      <td>Willian_justen</td>\n",
       "    </tr>\n",
       "    <tr>\n",
       "      <th>location</th>\n",
       "      <td>Rio de Janeiro, Brasil</td>\n",
       "      <td>somewhere in Brazil</td>\n",
       "      <td></td>\n",
       "      <td>Ctba-PR Brasil</td>\n",
       "      <td>Brasil</td>\n",
       "      <td>Ceará, Brazil</td>\n",
       "      <td>São Paulo - Brasil</td>\n",
       "      <td>Belo Horizonte, Brasil</td>\n",
       "      <td>Sao Paulo, Brazil</td>\n",
       "      <td>Belo Horizonte</td>\n",
       "      <td>Belo Horizonte, Brazil.</td>\n",
       "      <td>Dark Side of the Moon</td>\n",
       "      <td>Rio de Janeiro, Brasil</td>\n",
       "      <td>São Paulo, Brasil</td>\n",
       "      <td>Pvh</td>\n",
       "      <td>Palmas, Tocantins, Brasil</td>\n",
       "      <td>Jaraguá do Sul, Brasil</td>\n",
       "      <td>Curitiba</td>\n",
       "      <td>Petrópolis, Brasil</td>\n",
       "    </tr>\n",
       "  </tbody>\n",
       "</table>\n",
       "</div>"
      ],
      "text/plain": [
       "                                    26                   27  \\\n",
       "id_str_twitter                23781146             15148309   \n",
       "participant_id                       1                    2   \n",
       "name                      Fe Rebelatto  Sommelier de Airbnb   \n",
       "screen_name                  rebelatto            Guilh_rm_   \n",
       "location        Rio de Janeiro, Brasil  somewhere in Brazil   \n",
       "\n",
       "                                28                                   29  \\\n",
       "id_str_twitter  927028057763995648                             77648005   \n",
       "participant_id                   3                                 None   \n",
       "name                     ✪ Felippe  Conference Distinguished Specialist   \n",
       "screen_name         FelippeRegazio                              NannoKa   \n",
       "location                                                 Ctba-PR Brasil   \n",
       "\n",
       "                           30                        31                   32  \\\n",
       "id_str_twitter     3429765093                  10794662  1034514325644431361   \n",
       "participant_id              4                         5                    6   \n",
       "name            Paula Santana  Maharaja of the Legacies              Jessica   \n",
       "screen_name        psanrosa13                    rponte            dev_jessi   \n",
       "location               Brasil             Ceará, Brazil   São Paulo - Brasil   \n",
       "\n",
       "                                           33                 34  \\\n",
       "id_str_twitter                      529445600           12050562   \n",
       "participant_id                           None                  7   \n",
       "name            var nickname = \"Riquettinha\";  Roberta Arcoverde   \n",
       "screen_name                       Riquettinha               rla4   \n",
       "location               Belo Horizonte, Brasil  Sao Paulo, Brazil   \n",
       "\n",
       "                             35                       36  \\\n",
       "id_str_twitter         62314491                 18289937   \n",
       "participant_id                8                     None   \n",
       "name                   Gabriela          Thamara Andrade   \n",
       "screen_name     Gabrielathalita                   thamyk   \n",
       "location         Belo Horizonte  Belo Horizonte, Brazil.   \n",
       "\n",
       "                                   37                      38  \\\n",
       "id_str_twitter              172880784                18609547   \n",
       "participant_id                      9                      10   \n",
       "name                      felipe.ts ⚡              Juan Lopes   \n",
       "screen_name             felipefialho_              juanplopes   \n",
       "location        Dark Side of the Moon  Rio de Janeiro, Brasil   \n",
       "\n",
       "                               39                   40  \\\n",
       "id_str_twitter         2164986296  1026783544457273345   \n",
       "participant_id                 11                   12   \n",
       "name                Rafael Dantas          iagor com i   \n",
       "screen_name        RaffaelDantass              Iagor51   \n",
       "location        São Paulo, Brasil                  Pvh   \n",
       "\n",
       "                                           41                      42  \\\n",
       "id_str_twitter                      109604376     1040939562774790144   \n",
       "participant_id                             13                      14   \n",
       "name            T̷o̷m̷o̷y̷o̷ ̷ F̷u̷r̷a̷c̷ã̷o̷           Esdras Xavier   \n",
       "screen_name                    RafaelMansilha          esdras_xavieer   \n",
       "location            Palmas, Tocantins, Brasil  Jaraguá do Sul, Brasil   \n",
       "\n",
       "                                                   43                  44  \n",
       "id_str_twitter                               69734383           119897261  \n",
       "participant_id                                     15                  16  \n",
       "name            belle-🏴.dev || twitch.tv/bellesamways      Willian Justen  \n",
       "screen_name                              bellesamways      Willian_justen  \n",
       "location                                     Curitiba  Petrópolis, Brasil  "
      ]
     },
     "execution_count": 92,
     "metadata": {},
     "output_type": "execute_result"
    }
   ],
   "source": [
    "data = pd.read_json(r'/Users/leosilva/development/thesis/workspacePyCharm/TwitterDataMining/alldata.json')\n",
    "data.head()"
   ]
  },
  {
   "cell_type": "code",
   "execution_count": 93,
   "id": "1918023f",
   "metadata": {},
   "outputs": [
    {
     "name": "stdout",
     "output_type": "stream",
     "text": [
      "91632\n"
     ]
    }
   ],
   "source": [
    "tweets = []\n",
    "\n",
    "for d in data:\n",
    "    if data[d]['bigfive']:\n",
    "        tweets.append(data[d]['tweets'])\n",
    "\n",
    "final_tweets = []\n",
    "for i in tweets:\n",
    "    final_tweets.extend(i)\n",
    "    \n",
    "print(len(final_tweets))"
   ]
  },
  {
   "cell_type": "code",
   "execution_count": 94,
   "id": "a1106295",
   "metadata": {},
   "outputs": [],
   "source": [
    "def create_tweets_df(tweets):\n",
    "    df = pd.DataFrame(final_tweets)\n",
    "\n",
    "    df.columns = [\"id\", \"id_str_twitter\", \"text\", \"created_at\", \"favorite_count\", \"retweet_count\", \n",
    "                  \"lang\", \"id_user\", \"vader_sentiment_analysis_score\", \"vader_sentiment_analysis_polarity\", \n",
    "                  \"vader_sentiment_analysis_polarity_5_cat\", \"oplexicon_sentiment_analysis_score\",\n",
    "                  \"oplexicon_sentiment_analysis_polarity\", \"oplexicon_sentiment_analysis_polarity_5_cat\",\n",
    "                  \"sentistrength_sentiment_analysis_score\", \"sentistrength_sentiment_analysis_polarity\",\n",
    "                  \"sentistrength_sentiment_analysis_polarity_5_cat\", \"sentilexpt_sentiment_analysis_score\",\n",
    "                  \"sentilexpt_sentiment_analysis_polarity\", \"sentilexpt_sentiment_analysis_polarity_5_cat\",\n",
    "                  \"liwc_sentiment_analysis_score\", \"liwc_sentiment_analysis_polarity\",\n",
    "                  \"liwc_sentiment_analysis_polarity_5_cat\", \"final_score\", \"final_score_ensemble\",\n",
    "                  \"final_polarity\", \"final_polarity_ensemble\", \"text_updated\", \"is_retweet\", \"retweet_updated\"\n",
    "                 ]\n",
    "    \n",
    "    del df[\"text_updated\"]\n",
    "    del df[\"is_retweet\"]\n",
    "    del df[\"retweet_updated\"]\n",
    "    del df[\"favorite_count\"]\n",
    "    del df[\"retweet_count\"]\n",
    "    del df[\"lang\"]\n",
    "    del df[\"id_str_twitter\"]\n",
    "    \n",
    "    return df"
   ]
  },
  {
   "cell_type": "code",
   "execution_count": 95,
   "id": "9c5ad668",
   "metadata": {},
   "outputs": [
    {
     "name": "stdout",
     "output_type": "stream",
     "text": [
      "91632\n"
     ]
    },
    {
     "data": {
      "text/html": [
       "<div>\n",
       "<style scoped>\n",
       "    .dataframe tbody tr th:only-of-type {\n",
       "        vertical-align: middle;\n",
       "    }\n",
       "\n",
       "    .dataframe tbody tr th {\n",
       "        vertical-align: top;\n",
       "    }\n",
       "\n",
       "    .dataframe thead th {\n",
       "        text-align: right;\n",
       "    }\n",
       "</style>\n",
       "<table border=\"1\" class=\"dataframe\">\n",
       "  <thead>\n",
       "    <tr style=\"text-align: right;\">\n",
       "      <th></th>\n",
       "      <th>id</th>\n",
       "      <th>text</th>\n",
       "      <th>created_at</th>\n",
       "      <th>id_user</th>\n",
       "      <th>vader_sentiment_analysis_score</th>\n",
       "      <th>vader_sentiment_analysis_polarity</th>\n",
       "      <th>vader_sentiment_analysis_polarity_5_cat</th>\n",
       "      <th>oplexicon_sentiment_analysis_score</th>\n",
       "      <th>oplexicon_sentiment_analysis_polarity</th>\n",
       "      <th>oplexicon_sentiment_analysis_polarity_5_cat</th>\n",
       "      <th>...</th>\n",
       "      <th>sentilexpt_sentiment_analysis_score</th>\n",
       "      <th>sentilexpt_sentiment_analysis_polarity</th>\n",
       "      <th>sentilexpt_sentiment_analysis_polarity_5_cat</th>\n",
       "      <th>liwc_sentiment_analysis_score</th>\n",
       "      <th>liwc_sentiment_analysis_polarity</th>\n",
       "      <th>liwc_sentiment_analysis_polarity_5_cat</th>\n",
       "      <th>final_score</th>\n",
       "      <th>final_score_ensemble</th>\n",
       "      <th>final_polarity</th>\n",
       "      <th>final_polarity_ensemble</th>\n",
       "    </tr>\n",
       "  </thead>\n",
       "  <tbody>\n",
       "    <tr>\n",
       "      <th>0</th>\n",
       "      <td>102566</td>\n",
       "      <td>Atenção, estou mudando os moveis da sala de lu...</td>\n",
       "      <td>2021-03-31T19:13:28</td>\n",
       "      <td>26</td>\n",
       "      <td>-0.4588</td>\n",
       "      <td>neg</td>\n",
       "      <td>w_neg</td>\n",
       "      <td>0.000000</td>\n",
       "      <td>neu</td>\n",
       "      <td>neu</td>\n",
       "      <td>...</td>\n",
       "      <td>0.00</td>\n",
       "      <td>neu</td>\n",
       "      <td>neu</td>\n",
       "      <td>0.0000</td>\n",
       "      <td>neu</td>\n",
       "      <td>neu</td>\n",
       "      <td>-0.091760</td>\n",
       "      <td>0.000</td>\n",
       "      <td>neg</td>\n",
       "      <td>neu</td>\n",
       "    </tr>\n",
       "    <tr>\n",
       "      <th>1</th>\n",
       "      <td>102567</td>\n",
       "      <td>RT @andreariell: o cancelamento dos participan...</td>\n",
       "      <td>2021-03-31T12:28:56</td>\n",
       "      <td>26</td>\n",
       "      <td>0.0000</td>\n",
       "      <td>neu</td>\n",
       "      <td>neu</td>\n",
       "      <td>0.000000</td>\n",
       "      <td>neu</td>\n",
       "      <td>neu</td>\n",
       "      <td>...</td>\n",
       "      <td>0.00</td>\n",
       "      <td>neu</td>\n",
       "      <td>neu</td>\n",
       "      <td>-0.0667</td>\n",
       "      <td>neg</td>\n",
       "      <td>w_neg</td>\n",
       "      <td>-0.013340</td>\n",
       "      <td>0.000</td>\n",
       "      <td>neg</td>\n",
       "      <td>neu</td>\n",
       "    </tr>\n",
       "    <tr>\n",
       "      <th>2</th>\n",
       "      <td>102568</td>\n",
       "      <td>RT @AndrewBrobston: NOVA ANTECIPAÇÃO\\nBoa tard...</td>\n",
       "      <td>2021-03-31T12:17:06</td>\n",
       "      <td>26</td>\n",
       "      <td>0.7734</td>\n",
       "      <td>pos</td>\n",
       "      <td>s_pos</td>\n",
       "      <td>0.458831</td>\n",
       "      <td>pos</td>\n",
       "      <td>w_pos</td>\n",
       "      <td>...</td>\n",
       "      <td>0.00</td>\n",
       "      <td>neu</td>\n",
       "      <td>neu</td>\n",
       "      <td>0.0196</td>\n",
       "      <td>pos</td>\n",
       "      <td>w_pos</td>\n",
       "      <td>0.250366</td>\n",
       "      <td>0.000</td>\n",
       "      <td>pos</td>\n",
       "      <td>neu</td>\n",
       "    </tr>\n",
       "    <tr>\n",
       "      <th>3</th>\n",
       "      <td>102569</td>\n",
       "      <td>@DouglasMarendaz Eu amo muito meu pai, mas fal...</td>\n",
       "      <td>2021-03-31T11:46:04</td>\n",
       "      <td>26</td>\n",
       "      <td>-0.8720</td>\n",
       "      <td>neg</td>\n",
       "      <td>s_neg</td>\n",
       "      <td>0.458831</td>\n",
       "      <td>pos</td>\n",
       "      <td>w_pos</td>\n",
       "      <td>...</td>\n",
       "      <td>-0.25</td>\n",
       "      <td>neg</td>\n",
       "      <td>w_neg</td>\n",
       "      <td>0.0400</td>\n",
       "      <td>pos</td>\n",
       "      <td>w_pos</td>\n",
       "      <td>-0.074634</td>\n",
       "      <td>0.000</td>\n",
       "      <td>neg</td>\n",
       "      <td>neu</td>\n",
       "    </tr>\n",
       "    <tr>\n",
       "      <th>4</th>\n",
       "      <td>102571</td>\n",
       "      <td>@lilicebk Eu cresci numa casa cheia de gente e...</td>\n",
       "      <td>2021-03-30T17:58:24</td>\n",
       "      <td>26</td>\n",
       "      <td>-0.6808</td>\n",
       "      <td>neg</td>\n",
       "      <td>s_neg</td>\n",
       "      <td>0.000000</td>\n",
       "      <td>neu</td>\n",
       "      <td>neu</td>\n",
       "      <td>...</td>\n",
       "      <td>-0.25</td>\n",
       "      <td>neg</td>\n",
       "      <td>w_neg</td>\n",
       "      <td>0.0000</td>\n",
       "      <td>neu</td>\n",
       "      <td>neu</td>\n",
       "      <td>-0.186160</td>\n",
       "      <td>-0.125</td>\n",
       "      <td>neg</td>\n",
       "      <td>neg</td>\n",
       "    </tr>\n",
       "  </tbody>\n",
       "</table>\n",
       "<p>5 rows × 23 columns</p>\n",
       "</div>"
      ],
      "text/plain": [
       "       id                                               text  \\\n",
       "0  102566  Atenção, estou mudando os moveis da sala de lu...   \n",
       "1  102567  RT @andreariell: o cancelamento dos participan...   \n",
       "2  102568  RT @AndrewBrobston: NOVA ANTECIPAÇÃO\\nBoa tard...   \n",
       "3  102569  @DouglasMarendaz Eu amo muito meu pai, mas fal...   \n",
       "4  102571  @lilicebk Eu cresci numa casa cheia de gente e...   \n",
       "\n",
       "            created_at  id_user  vader_sentiment_analysis_score  \\\n",
       "0  2021-03-31T19:13:28       26                         -0.4588   \n",
       "1  2021-03-31T12:28:56       26                          0.0000   \n",
       "2  2021-03-31T12:17:06       26                          0.7734   \n",
       "3  2021-03-31T11:46:04       26                         -0.8720   \n",
       "4  2021-03-30T17:58:24       26                         -0.6808   \n",
       "\n",
       "  vader_sentiment_analysis_polarity vader_sentiment_analysis_polarity_5_cat  \\\n",
       "0                               neg                                   w_neg   \n",
       "1                               neu                                     neu   \n",
       "2                               pos                                   s_pos   \n",
       "3                               neg                                   s_neg   \n",
       "4                               neg                                   s_neg   \n",
       "\n",
       "   oplexicon_sentiment_analysis_score oplexicon_sentiment_analysis_polarity  \\\n",
       "0                            0.000000                                   neu   \n",
       "1                            0.000000                                   neu   \n",
       "2                            0.458831                                   pos   \n",
       "3                            0.458831                                   pos   \n",
       "4                            0.000000                                   neu   \n",
       "\n",
       "  oplexicon_sentiment_analysis_polarity_5_cat  ...  \\\n",
       "0                                         neu  ...   \n",
       "1                                         neu  ...   \n",
       "2                                       w_pos  ...   \n",
       "3                                       w_pos  ...   \n",
       "4                                         neu  ...   \n",
       "\n",
       "   sentilexpt_sentiment_analysis_score sentilexpt_sentiment_analysis_polarity  \\\n",
       "0                                 0.00                                    neu   \n",
       "1                                 0.00                                    neu   \n",
       "2                                 0.00                                    neu   \n",
       "3                                -0.25                                    neg   \n",
       "4                                -0.25                                    neg   \n",
       "\n",
       "  sentilexpt_sentiment_analysis_polarity_5_cat  liwc_sentiment_analysis_score  \\\n",
       "0                                          neu                         0.0000   \n",
       "1                                          neu                        -0.0667   \n",
       "2                                          neu                         0.0196   \n",
       "3                                        w_neg                         0.0400   \n",
       "4                                        w_neg                         0.0000   \n",
       "\n",
       "  liwc_sentiment_analysis_polarity liwc_sentiment_analysis_polarity_5_cat  \\\n",
       "0                              neu                                    neu   \n",
       "1                              neg                                  w_neg   \n",
       "2                              pos                                  w_pos   \n",
       "3                              pos                                  w_pos   \n",
       "4                              neu                                    neu   \n",
       "\n",
       "   final_score final_score_ensemble final_polarity  final_polarity_ensemble  \n",
       "0    -0.091760                0.000            neg                      neu  \n",
       "1    -0.013340                0.000            neg                      neu  \n",
       "2     0.250366                0.000            pos                      neu  \n",
       "3    -0.074634                0.000            neg                      neu  \n",
       "4    -0.186160               -0.125            neg                      neg  \n",
       "\n",
       "[5 rows x 23 columns]"
      ]
     },
     "execution_count": 95,
     "metadata": {},
     "output_type": "execute_result"
    }
   ],
   "source": [
    "tweets_df = create_tweets_df(final_tweets)\n",
    "print(len(tweets_df))\n",
    "tweets_df.head()"
   ]
  },
  {
   "cell_type": "code",
   "execution_count": 96,
   "id": "ae621de1",
   "metadata": {},
   "outputs": [
    {
     "name": "stdout",
     "output_type": "stream",
     "text": [
      "43    24077\n",
      "32     9385\n",
      "37     6456\n",
      "31     5993\n",
      "28     5932\n",
      "26     5038\n",
      "44     4928\n",
      "38     4708\n",
      "27     4548\n",
      "41     4386\n",
      "39     3944\n",
      "30     3171\n",
      "42     2698\n",
      "35     2595\n",
      "40     2228\n",
      "34     1545\n",
      "Name: id_user, dtype: int64\n"
     ]
    }
   ],
   "source": [
    "print(tweets_df['id_user'].value_counts())"
   ]
  },
  {
   "cell_type": "code",
   "execution_count": 97,
   "id": "e91a25c1",
   "metadata": {},
   "outputs": [],
   "source": [
    "for i in tweets_df.index:\n",
    "    t = tweets_df.iloc[i]\n",
    "    d = pd.to_datetime(t['created_at']).to_pydatetime()\n",
    "    date_from = datetime.datetime(year = d.year, month = d.month, day = d.day, hour = 9)\n",
    "    date_to = datetime.datetime(year = d.year, month = d.month, day = d.day, hour = 18)\n",
    "    if date_from <= d <= date_to and d.weekday() in [0,1,2,3,4]:\n",
    "        tweets_df.at[i,'is_work_time'] = int(1)\n",
    "    else:\n",
    "        tweets_df.at[i,'is_work_time'] = int(0)"
   ]
  },
  {
   "cell_type": "code",
   "execution_count": 98,
   "id": "c6e90b92",
   "metadata": {},
   "outputs": [
    {
     "name": "stdout",
     "output_type": "stream",
     "text": [
      "0.0    52703\n",
      "1.0    38929\n",
      "Name: is_work_time, dtype: int64\n"
     ]
    }
   ],
   "source": [
    "print(tweets_df['is_work_time'].value_counts())"
   ]
  },
  {
   "cell_type": "code",
   "execution_count": 99,
   "id": "7b08f259",
   "metadata": {},
   "outputs": [
    {
     "data": {
      "text/html": [
       "<div>\n",
       "<style scoped>\n",
       "    .dataframe tbody tr th:only-of-type {\n",
       "        vertical-align: middle;\n",
       "    }\n",
       "\n",
       "    .dataframe tbody tr th {\n",
       "        vertical-align: top;\n",
       "    }\n",
       "\n",
       "    .dataframe thead th {\n",
       "        text-align: right;\n",
       "    }\n",
       "</style>\n",
       "<table border=\"1\" class=\"dataframe\">\n",
       "  <thead>\n",
       "    <tr style=\"text-align: right;\">\n",
       "      <th></th>\n",
       "      <th>id</th>\n",
       "      <th>text</th>\n",
       "      <th>created_at</th>\n",
       "      <th>id_user</th>\n",
       "      <th>vader_sentiment_analysis_score</th>\n",
       "      <th>vader_sentiment_analysis_polarity</th>\n",
       "      <th>vader_sentiment_analysis_polarity_5_cat</th>\n",
       "      <th>oplexicon_sentiment_analysis_score</th>\n",
       "      <th>oplexicon_sentiment_analysis_polarity</th>\n",
       "      <th>oplexicon_sentiment_analysis_polarity_5_cat</th>\n",
       "      <th>...</th>\n",
       "      <th>sentilexpt_sentiment_analysis_polarity</th>\n",
       "      <th>sentilexpt_sentiment_analysis_polarity_5_cat</th>\n",
       "      <th>liwc_sentiment_analysis_score</th>\n",
       "      <th>liwc_sentiment_analysis_polarity</th>\n",
       "      <th>liwc_sentiment_analysis_polarity_5_cat</th>\n",
       "      <th>final_score</th>\n",
       "      <th>final_score_ensemble</th>\n",
       "      <th>final_polarity</th>\n",
       "      <th>final_polarity_ensemble</th>\n",
       "      <th>is_work_time</th>\n",
       "    </tr>\n",
       "  </thead>\n",
       "  <tbody>\n",
       "    <tr>\n",
       "      <th>0</th>\n",
       "      <td>102566</td>\n",
       "      <td>Atenção, estou mudando os moveis da sala de lu...</td>\n",
       "      <td>2021-03-31T19:13:28</td>\n",
       "      <td>26</td>\n",
       "      <td>-0.4588</td>\n",
       "      <td>neg</td>\n",
       "      <td>w_neg</td>\n",
       "      <td>0.000000</td>\n",
       "      <td>neu</td>\n",
       "      <td>neu</td>\n",
       "      <td>...</td>\n",
       "      <td>neu</td>\n",
       "      <td>neu</td>\n",
       "      <td>0.0000</td>\n",
       "      <td>neu</td>\n",
       "      <td>neu</td>\n",
       "      <td>-0.091760</td>\n",
       "      <td>0.000</td>\n",
       "      <td>neg</td>\n",
       "      <td>neu</td>\n",
       "      <td>0.0</td>\n",
       "    </tr>\n",
       "    <tr>\n",
       "      <th>1</th>\n",
       "      <td>102567</td>\n",
       "      <td>RT @andreariell: o cancelamento dos participan...</td>\n",
       "      <td>2021-03-31T12:28:56</td>\n",
       "      <td>26</td>\n",
       "      <td>0.0000</td>\n",
       "      <td>neu</td>\n",
       "      <td>neu</td>\n",
       "      <td>0.000000</td>\n",
       "      <td>neu</td>\n",
       "      <td>neu</td>\n",
       "      <td>...</td>\n",
       "      <td>neu</td>\n",
       "      <td>neu</td>\n",
       "      <td>-0.0667</td>\n",
       "      <td>neg</td>\n",
       "      <td>w_neg</td>\n",
       "      <td>-0.013340</td>\n",
       "      <td>0.000</td>\n",
       "      <td>neg</td>\n",
       "      <td>neu</td>\n",
       "      <td>1.0</td>\n",
       "    </tr>\n",
       "    <tr>\n",
       "      <th>2</th>\n",
       "      <td>102568</td>\n",
       "      <td>RT @AndrewBrobston: NOVA ANTECIPAÇÃO\\nBoa tard...</td>\n",
       "      <td>2021-03-31T12:17:06</td>\n",
       "      <td>26</td>\n",
       "      <td>0.7734</td>\n",
       "      <td>pos</td>\n",
       "      <td>s_pos</td>\n",
       "      <td>0.458831</td>\n",
       "      <td>pos</td>\n",
       "      <td>w_pos</td>\n",
       "      <td>...</td>\n",
       "      <td>neu</td>\n",
       "      <td>neu</td>\n",
       "      <td>0.0196</td>\n",
       "      <td>pos</td>\n",
       "      <td>w_pos</td>\n",
       "      <td>0.250366</td>\n",
       "      <td>0.000</td>\n",
       "      <td>pos</td>\n",
       "      <td>neu</td>\n",
       "      <td>1.0</td>\n",
       "    </tr>\n",
       "    <tr>\n",
       "      <th>3</th>\n",
       "      <td>102569</td>\n",
       "      <td>@DouglasMarendaz Eu amo muito meu pai, mas fal...</td>\n",
       "      <td>2021-03-31T11:46:04</td>\n",
       "      <td>26</td>\n",
       "      <td>-0.8720</td>\n",
       "      <td>neg</td>\n",
       "      <td>s_neg</td>\n",
       "      <td>0.458831</td>\n",
       "      <td>pos</td>\n",
       "      <td>w_pos</td>\n",
       "      <td>...</td>\n",
       "      <td>neg</td>\n",
       "      <td>w_neg</td>\n",
       "      <td>0.0400</td>\n",
       "      <td>pos</td>\n",
       "      <td>w_pos</td>\n",
       "      <td>-0.074634</td>\n",
       "      <td>0.000</td>\n",
       "      <td>neg</td>\n",
       "      <td>neu</td>\n",
       "      <td>1.0</td>\n",
       "    </tr>\n",
       "    <tr>\n",
       "      <th>4</th>\n",
       "      <td>102571</td>\n",
       "      <td>@lilicebk Eu cresci numa casa cheia de gente e...</td>\n",
       "      <td>2021-03-30T17:58:24</td>\n",
       "      <td>26</td>\n",
       "      <td>-0.6808</td>\n",
       "      <td>neg</td>\n",
       "      <td>s_neg</td>\n",
       "      <td>0.000000</td>\n",
       "      <td>neu</td>\n",
       "      <td>neu</td>\n",
       "      <td>...</td>\n",
       "      <td>neg</td>\n",
       "      <td>w_neg</td>\n",
       "      <td>0.0000</td>\n",
       "      <td>neu</td>\n",
       "      <td>neu</td>\n",
       "      <td>-0.186160</td>\n",
       "      <td>-0.125</td>\n",
       "      <td>neg</td>\n",
       "      <td>neg</td>\n",
       "      <td>1.0</td>\n",
       "    </tr>\n",
       "  </tbody>\n",
       "</table>\n",
       "<p>5 rows × 24 columns</p>\n",
       "</div>"
      ],
      "text/plain": [
       "       id                                               text  \\\n",
       "0  102566  Atenção, estou mudando os moveis da sala de lu...   \n",
       "1  102567  RT @andreariell: o cancelamento dos participan...   \n",
       "2  102568  RT @AndrewBrobston: NOVA ANTECIPAÇÃO\\nBoa tard...   \n",
       "3  102569  @DouglasMarendaz Eu amo muito meu pai, mas fal...   \n",
       "4  102571  @lilicebk Eu cresci numa casa cheia de gente e...   \n",
       "\n",
       "            created_at  id_user  vader_sentiment_analysis_score  \\\n",
       "0  2021-03-31T19:13:28       26                         -0.4588   \n",
       "1  2021-03-31T12:28:56       26                          0.0000   \n",
       "2  2021-03-31T12:17:06       26                          0.7734   \n",
       "3  2021-03-31T11:46:04       26                         -0.8720   \n",
       "4  2021-03-30T17:58:24       26                         -0.6808   \n",
       "\n",
       "  vader_sentiment_analysis_polarity vader_sentiment_analysis_polarity_5_cat  \\\n",
       "0                               neg                                   w_neg   \n",
       "1                               neu                                     neu   \n",
       "2                               pos                                   s_pos   \n",
       "3                               neg                                   s_neg   \n",
       "4                               neg                                   s_neg   \n",
       "\n",
       "   oplexicon_sentiment_analysis_score oplexicon_sentiment_analysis_polarity  \\\n",
       "0                            0.000000                                   neu   \n",
       "1                            0.000000                                   neu   \n",
       "2                            0.458831                                   pos   \n",
       "3                            0.458831                                   pos   \n",
       "4                            0.000000                                   neu   \n",
       "\n",
       "  oplexicon_sentiment_analysis_polarity_5_cat  ...  \\\n",
       "0                                         neu  ...   \n",
       "1                                         neu  ...   \n",
       "2                                       w_pos  ...   \n",
       "3                                       w_pos  ...   \n",
       "4                                         neu  ...   \n",
       "\n",
       "   sentilexpt_sentiment_analysis_polarity  \\\n",
       "0                                     neu   \n",
       "1                                     neu   \n",
       "2                                     neu   \n",
       "3                                     neg   \n",
       "4                                     neg   \n",
       "\n",
       "  sentilexpt_sentiment_analysis_polarity_5_cat liwc_sentiment_analysis_score  \\\n",
       "0                                          neu                        0.0000   \n",
       "1                                          neu                       -0.0667   \n",
       "2                                          neu                        0.0196   \n",
       "3                                        w_neg                        0.0400   \n",
       "4                                        w_neg                        0.0000   \n",
       "\n",
       "   liwc_sentiment_analysis_polarity liwc_sentiment_analysis_polarity_5_cat  \\\n",
       "0                               neu                                    neu   \n",
       "1                               neg                                  w_neg   \n",
       "2                               pos                                  w_pos   \n",
       "3                               pos                                  w_pos   \n",
       "4                               neu                                    neu   \n",
       "\n",
       "  final_score  final_score_ensemble final_polarity final_polarity_ensemble  \\\n",
       "0   -0.091760                 0.000            neg                     neu   \n",
       "1   -0.013340                 0.000            neg                     neu   \n",
       "2    0.250366                 0.000            pos                     neu   \n",
       "3   -0.074634                 0.000            neg                     neu   \n",
       "4   -0.186160                -0.125            neg                     neg   \n",
       "\n",
       "   is_work_time  \n",
       "0           0.0  \n",
       "1           1.0  \n",
       "2           1.0  \n",
       "3           1.0  \n",
       "4           1.0  \n",
       "\n",
       "[5 rows x 24 columns]"
      ]
     },
     "execution_count": 99,
     "metadata": {},
     "output_type": "execute_result"
    }
   ],
   "source": [
    "tweets_df.head()"
   ]
  },
  {
   "cell_type": "code",
   "execution_count": 100,
   "id": "3ba19891",
   "metadata": {},
   "outputs": [],
   "source": [
    "# - Criação do dataset com os scores das inferências geradas pelo ensemble \n",
    "# - Dois datasets: um com scores para tweets dentro do horário de trabalho\n",
    "#   e outro para tweets fora do horário de trabalho           \n",
    "\n",
    "def create_datasets():\n",
    "    work_times = tweets_df.loc[tweets_df['is_work_time'] == 1]['final_score_ensemble']\n",
    "    non_work_times = tweets_df.loc[tweets_df['is_work_time'] == 0]['final_score_ensemble']\n",
    "    work_times_df = pd.DataFrame(work_times)\n",
    "    non_work_times_df = pd.DataFrame(non_work_times)\n",
    "    return (work_times_df, non_work_times_df)\n",
    "\n",
    "#     print(len(work_times))\n",
    "#     print(len(non_work_times))"
   ]
  },
  {
   "cell_type": "code",
   "execution_count": 101,
   "id": "e6388a60",
   "metadata": {},
   "outputs": [],
   "source": [
    "work_times_df, non_work_times_df = create_datasets()"
   ]
  },
  {
   "cell_type": "code",
   "execution_count": 102,
   "id": "d1ba37e9",
   "metadata": {},
   "outputs": [
    {
     "name": "stderr",
     "output_type": "stream",
     "text": [
      "/Users/leosilva/opt/anaconda3/lib/python3.7/site-packages/scipy/stats/morestats.py:1681: UserWarning: p-value may not be accurate for N > 5000.\n",
      "  warnings.warn(\"p-value may not be accurate for N > 5000.\")\n"
     ]
    },
    {
     "data": {
      "text/html": [
       "<div>\n",
       "<style scoped>\n",
       "    .dataframe tbody tr th:only-of-type {\n",
       "        vertical-align: middle;\n",
       "    }\n",
       "\n",
       "    .dataframe tbody tr th {\n",
       "        vertical-align: top;\n",
       "    }\n",
       "\n",
       "    .dataframe thead th {\n",
       "        text-align: right;\n",
       "    }\n",
       "</style>\n",
       "<table border=\"1\" class=\"dataframe\">\n",
       "  <thead>\n",
       "    <tr style=\"text-align: right;\">\n",
       "      <th></th>\n",
       "      <th>W</th>\n",
       "      <th>pval</th>\n",
       "      <th>normal</th>\n",
       "    </tr>\n",
       "  </thead>\n",
       "  <tbody>\n",
       "    <tr>\n",
       "      <th>final_score_ensemble</th>\n",
       "      <td>0.965329</td>\n",
       "      <td>0.0</td>\n",
       "      <td>False</td>\n",
       "    </tr>\n",
       "  </tbody>\n",
       "</table>\n",
       "</div>"
      ],
      "text/plain": [
       "                             W  pval  normal\n",
       "final_score_ensemble  0.965329   0.0   False"
      ]
     },
     "execution_count": 102,
     "metadata": {},
     "output_type": "execute_result"
    }
   ],
   "source": [
    "pg.normality(work_times_df)"
   ]
  },
  {
   "cell_type": "code",
   "execution_count": 103,
   "id": "ae3f5ed5",
   "metadata": {},
   "outputs": [
    {
     "name": "stderr",
     "output_type": "stream",
     "text": [
      "/Users/leosilva/opt/anaconda3/lib/python3.7/site-packages/seaborn/distributions.py:2557: FutureWarning: `distplot` is a deprecated function and will be removed in a future version. Please adapt your code to use either `displot` (a figure-level function with similar flexibility) or `histplot` (an axes-level function for histograms).\n",
      "  warnings.warn(msg, FutureWarning)\n"
     ]
    },
    {
     "data": {
      "text/plain": [
       "[]"
      ]
     },
     "execution_count": 103,
     "metadata": {},
     "output_type": "execute_result"
    },
    {
     "data": {
      "image/png": "[encoded data removed]",
      "text/plain": [
       "<Figure size 432x288 with 1 Axes>"
      ]
     },
     "metadata": {
      "needs_background": "light"
     },
     "output_type": "display_data"
    }
   ],
   "source": [
    "sns.distplot(work_times_df, fit = sts.norm, kde = True, color = 'blue')\n",
    "plt.plot()"
   ]
  },
  {
   "cell_type": "code",
   "execution_count": 104,
   "id": "8fd60069",
   "metadata": {
    "scrolled": true
   },
   "outputs": [
    {
     "name": "stderr",
     "output_type": "stream",
     "text": [
      "/Users/leosilva/opt/anaconda3/lib/python3.7/site-packages/scipy/stats/morestats.py:1681: UserWarning: p-value may not be accurate for N > 5000.\n",
      "  warnings.warn(\"p-value may not be accurate for N > 5000.\")\n"
     ]
    },
    {
     "data": {
      "text/html": [
       "<div>\n",
       "<style scoped>\n",
       "    .dataframe tbody tr th:only-of-type {\n",
       "        vertical-align: middle;\n",
       "    }\n",
       "\n",
       "    .dataframe tbody tr th {\n",
       "        vertical-align: top;\n",
       "    }\n",
       "\n",
       "    .dataframe thead th {\n",
       "        text-align: right;\n",
       "    }\n",
       "</style>\n",
       "<table border=\"1\" class=\"dataframe\">\n",
       "  <thead>\n",
       "    <tr style=\"text-align: right;\">\n",
       "      <th></th>\n",
       "      <th>W</th>\n",
       "      <th>pval</th>\n",
       "      <th>normal</th>\n",
       "    </tr>\n",
       "  </thead>\n",
       "  <tbody>\n",
       "    <tr>\n",
       "      <th>final_score_ensemble</th>\n",
       "      <td>0.966166</td>\n",
       "      <td>0.0</td>\n",
       "      <td>False</td>\n",
       "    </tr>\n",
       "  </tbody>\n",
       "</table>\n",
       "</div>"
      ],
      "text/plain": [
       "                             W  pval  normal\n",
       "final_score_ensemble  0.966166   0.0   False"
      ]
     },
     "execution_count": 104,
     "metadata": {},
     "output_type": "execute_result"
    }
   ],
   "source": [
    "pg.normality(non_work_times_df)"
   ]
  },
  {
   "cell_type": "code",
   "execution_count": 105,
   "id": "9b5dfcb7",
   "metadata": {},
   "outputs": [
    {
     "name": "stderr",
     "output_type": "stream",
     "text": [
      "/Users/leosilva/opt/anaconda3/lib/python3.7/site-packages/seaborn/distributions.py:2557: FutureWarning: `distplot` is a deprecated function and will be removed in a future version. Please adapt your code to use either `displot` (a figure-level function with similar flexibility) or `histplot` (an axes-level function for histograms).\n",
      "  warnings.warn(msg, FutureWarning)\n"
     ]
    },
    {
     "data": {
      "text/plain": [
       "[]"
      ]
     },
     "execution_count": 105,
     "metadata": {},
     "output_type": "execute_result"
    },
    {
     "data": {
      "image/png": "[encoded data removed]",
      "text/plain": [
       "<Figure size 432x288 with 1 Axes>"
      ]
     },
     "metadata": {
      "needs_background": "light"
     },
     "output_type": "display_data"
    }
   ],
   "source": [
    "sns.distplot(non_work_times_df, fit = sts.norm, kde = True, color = 'blue')\n",
    "plt.plot()"
   ]
  },
  {
   "cell_type": "code",
   "execution_count": 106,
   "id": "0c99a991",
   "metadata": {},
   "outputs": [
    {
     "data": {
      "text/plain": [
       "Ttest_indResult(statistic=-0.4505839980458342, pvalue=0.6522905512123373)"
      ]
     },
     "execution_count": 106,
     "metadata": {},
     "output_type": "execute_result"
    }
   ],
   "source": [
    "# Tentativa de t-test\n",
    "\n",
    "sts.ttest_ind(work_times_df['final_score_ensemble'], non_work_times_df['final_score_ensemble'], equal_var=False)"
   ]
  },
  {
   "cell_type": "code",
   "execution_count": 107,
   "id": "624ae5bd",
   "metadata": {},
   "outputs": [
    {
     "name": "stdout",
     "output_type": "stream",
     "text": [
      "0.01700903611467661\n",
      "final_score_ensemble    0.016662\n",
      "dtype: float64\n",
      "final_score_ensemble    0.017265\n",
      "dtype: float64\n"
     ]
    }
   ],
   "source": [
    "print(np.mean(tweets_df['final_score_ensemble']))\n",
    "print(np.mean(work_times_df))\n",
    "print(np.mean(non_work_times_df))"
   ]
  },
  {
   "cell_type": "code",
   "execution_count": 108,
   "id": "7c4aae06",
   "metadata": {},
   "outputs": [],
   "source": [
    "# Excluindo os tweets neutros\n",
    "\n",
    "def remove_neutral_tweets(work_times_df, non_work_times_df):\n",
    "    work_times_df = work_times_df[work_times_df['final_score_ensemble'] != 0]\n",
    "#     print(len(work_times_df))\n",
    "    non_work_times_df = non_work_times_df[non_work_times_df['final_score_ensemble'] != 0]\n",
    "#     print(len(non_work_times_df))\n",
    "    return (work_times_df, non_work_times_df)"
   ]
  },
  {
   "cell_type": "code",
   "execution_count": 109,
   "id": "60a53ffe",
   "metadata": {},
   "outputs": [
    {
     "data": {
      "text/plain": [
       "Ttest_indResult(statistic=-0.4505839980458342, pvalue=0.6522905512123373)"
      ]
     },
     "execution_count": 109,
     "metadata": {},
     "output_type": "execute_result"
    }
   ],
   "source": [
    "# Tentativa de t-test\n",
    "\n",
    "sts.ttest_ind(work_times_df['final_score_ensemble'], non_work_times_df['final_score_ensemble'], equal_var=False)"
   ]
  },
  {
   "cell_type": "code",
   "execution_count": 110,
   "id": "b3f5b723",
   "metadata": {},
   "outputs": [],
   "source": [
    "def scale_datasets(work_times_df, non_work_times_df):\n",
    "    scaler = StandardScaler()\n",
    "    work_times_df_scaled = pd.DataFrame(scaler.fit_transform(work_times_df))\n",
    "    non_work_times_df_scaled = pd.DataFrame(scaler.fit_transform(non_work_times_df))\n",
    "    return (work_times_df_scaled, non_work_times_df_scaled)"
   ]
  },
  {
   "cell_type": "code",
   "execution_count": 111,
   "id": "182bd87a",
   "metadata": {},
   "outputs": [],
   "source": [
    "work_times_df_scaled, non_work_times_df_scaled = scale_datasets(work_times_df, non_work_times_df)"
   ]
  },
  {
   "cell_type": "code",
   "execution_count": 112,
   "id": "cecaad40",
   "metadata": {},
   "outputs": [
    {
     "name": "stderr",
     "output_type": "stream",
     "text": [
      "/Users/leosilva/opt/anaconda3/lib/python3.7/site-packages/seaborn/distributions.py:2557: FutureWarning: `distplot` is a deprecated function and will be removed in a future version. Please adapt your code to use either `displot` (a figure-level function with similar flexibility) or `histplot` (an axes-level function for histograms).\n",
      "  warnings.warn(msg, FutureWarning)\n"
     ]
    },
    {
     "data": {
      "text/plain": [
       "[]"
      ]
     },
     "execution_count": 112,
     "metadata": {},
     "output_type": "execute_result"
    },
    {
     "data": {
      "image/png": "[encoded data removed]",
      "text/plain": [
       "<Figure size 432x288 with 1 Axes>"
      ]
     },
     "metadata": {
      "needs_background": "light"
     },
     "output_type": "display_data"
    }
   ],
   "source": [
    "sns.distplot(work_times_df_scaled, fit = sts.norm, kde = True, color = 'blue')\n",
    "plt.plot()"
   ]
  },
  {
   "cell_type": "code",
   "execution_count": 113,
   "id": "929e7a05",
   "metadata": {
    "scrolled": false
   },
   "outputs": [
    {
     "name": "stderr",
     "output_type": "stream",
     "text": [
      "/Users/leosilva/opt/anaconda3/lib/python3.7/site-packages/seaborn/distributions.py:2557: FutureWarning: `distplot` is a deprecated function and will be removed in a future version. Please adapt your code to use either `displot` (a figure-level function with similar flexibility) or `histplot` (an axes-level function for histograms).\n",
      "  warnings.warn(msg, FutureWarning)\n"
     ]
    },
    {
     "data": {
      "text/plain": [
       "[]"
      ]
     },
     "execution_count": 113,
     "metadata": {},
     "output_type": "execute_result"
    },
    {
     "data": {
      "image/png": "[encoded data removed]",
      "text/plain": [
       "<Figure size 432x288 with 1 Axes>"
      ]
     },
     "metadata": {
      "needs_background": "light"
     },
     "output_type": "display_data"
    }
   ],
   "source": [
    "sns.distplot(non_work_times_df_scaled, fit = sts.norm, kde = True, color = 'blue')\n",
    "plt.plot()"
   ]
  },
  {
   "cell_type": "code",
   "execution_count": 114,
   "id": "5bc6b53f",
   "metadata": {
    "scrolled": true
   },
   "outputs": [
    {
     "name": "stderr",
     "output_type": "stream",
     "text": [
      "/Users/leosilva/opt/anaconda3/lib/python3.7/site-packages/scipy/stats/morestats.py:1681: UserWarning: p-value may not be accurate for N > 5000.\n",
      "  warnings.warn(\"p-value may not be accurate for N > 5000.\")\n"
     ]
    },
    {
     "data": {
      "text/html": [
       "<div>\n",
       "<style scoped>\n",
       "    .dataframe tbody tr th:only-of-type {\n",
       "        vertical-align: middle;\n",
       "    }\n",
       "\n",
       "    .dataframe tbody tr th {\n",
       "        vertical-align: top;\n",
       "    }\n",
       "\n",
       "    .dataframe thead th {\n",
       "        text-align: right;\n",
       "    }\n",
       "</style>\n",
       "<table border=\"1\" class=\"dataframe\">\n",
       "  <thead>\n",
       "    <tr style=\"text-align: right;\">\n",
       "      <th></th>\n",
       "      <th>W</th>\n",
       "      <th>pval</th>\n",
       "      <th>normal</th>\n",
       "    </tr>\n",
       "  </thead>\n",
       "  <tbody>\n",
       "    <tr>\n",
       "      <th>0</th>\n",
       "      <td>0.965378</td>\n",
       "      <td>0.0</td>\n",
       "      <td>False</td>\n",
       "    </tr>\n",
       "  </tbody>\n",
       "</table>\n",
       "</div>"
      ],
      "text/plain": [
       "          W  pval  normal\n",
       "0  0.965378   0.0   False"
      ]
     },
     "execution_count": 114,
     "metadata": {},
     "output_type": "execute_result"
    }
   ],
   "source": [
    "pg.normality(work_times_df_scaled)"
   ]
  },
  {
   "cell_type": "code",
   "execution_count": 115,
   "id": "e7ffc89e",
   "metadata": {},
   "outputs": [
    {
     "name": "stderr",
     "output_type": "stream",
     "text": [
      "/Users/leosilva/opt/anaconda3/lib/python3.7/site-packages/scipy/stats/morestats.py:1681: UserWarning: p-value may not be accurate for N > 5000.\n",
      "  warnings.warn(\"p-value may not be accurate for N > 5000.\")\n"
     ]
    },
    {
     "data": {
      "text/html": [
       "<div>\n",
       "<style scoped>\n",
       "    .dataframe tbody tr th:only-of-type {\n",
       "        vertical-align: middle;\n",
       "    }\n",
       "\n",
       "    .dataframe tbody tr th {\n",
       "        vertical-align: top;\n",
       "    }\n",
       "\n",
       "    .dataframe thead th {\n",
       "        text-align: right;\n",
       "    }\n",
       "</style>\n",
       "<table border=\"1\" class=\"dataframe\">\n",
       "  <thead>\n",
       "    <tr style=\"text-align: right;\">\n",
       "      <th></th>\n",
       "      <th>W</th>\n",
       "      <th>pval</th>\n",
       "      <th>normal</th>\n",
       "    </tr>\n",
       "  </thead>\n",
       "  <tbody>\n",
       "    <tr>\n",
       "      <th>0</th>\n",
       "      <td>0.96634</td>\n",
       "      <td>0.0</td>\n",
       "      <td>False</td>\n",
       "    </tr>\n",
       "  </tbody>\n",
       "</table>\n",
       "</div>"
      ],
      "text/plain": [
       "         W  pval  normal\n",
       "0  0.96634   0.0   False"
      ]
     },
     "execution_count": 115,
     "metadata": {},
     "output_type": "execute_result"
    }
   ],
   "source": [
    "pg.normality(non_work_times_df_scaled)"
   ]
  },
  {
   "cell_type": "code",
   "execution_count": 116,
   "id": "fe227bcd",
   "metadata": {},
   "outputs": [],
   "source": [
    "# Como as distribuições NÃO SÃO NORMAIS, aplica-se testes não paramétricos.\n",
    "\n",
    "def calculate_mwu_statistic(wt_df, nwt_df):\n",
    "    return pg.mwu(wt_df, nwt_df)"
   ]
  },
  {
   "cell_type": "code",
   "execution_count": 122,
   "id": "9b1451fb",
   "metadata": {},
   "outputs": [],
   "source": [
    "def calculate_ttest(wt_df, nwt_df):\n",
    "    return sts.ttest_ind(wt_df, nwt_df, equal_var=False)"
   ]
  },
  {
   "cell_type": "code",
   "execution_count": 118,
   "id": "83f2e075",
   "metadata": {},
   "outputs": [
    {
     "data": {
      "text/html": [
       "<div>\n",
       "<style scoped>\n",
       "    .dataframe tbody tr th:only-of-type {\n",
       "        vertical-align: middle;\n",
       "    }\n",
       "\n",
       "    .dataframe tbody tr th {\n",
       "        vertical-align: top;\n",
       "    }\n",
       "\n",
       "    .dataframe thead th {\n",
       "        text-align: right;\n",
       "    }\n",
       "</style>\n",
       "<table border=\"1\" class=\"dataframe\">\n",
       "  <thead>\n",
       "    <tr style=\"text-align: right;\">\n",
       "      <th></th>\n",
       "      <th>U-val</th>\n",
       "      <th>tail</th>\n",
       "      <th>p-val</th>\n",
       "      <th>RBC</th>\n",
       "      <th>CLES</th>\n",
       "    </tr>\n",
       "  </thead>\n",
       "  <tbody>\n",
       "    <tr>\n",
       "      <th>MWU</th>\n",
       "      <td>442409853.0</td>\n",
       "      <td>two-sided</td>\n",
       "      <td>0.574634</td>\n",
       "      <td>0.002648</td>\n",
       "      <td>0.498676</td>\n",
       "    </tr>\n",
       "  </tbody>\n",
       "</table>\n",
       "</div>"
      ],
      "text/plain": [
       "           U-val       tail     p-val       RBC      CLES\n",
       "MWU  442409853.0  two-sided  0.574634  0.002648  0.498676"
      ]
     },
     "execution_count": 118,
     "metadata": {},
     "output_type": "execute_result"
    }
   ],
   "source": [
    "# Cálculo da estatística Mann-Withney SEM padronizar os dados\n",
    "\n",
    "work_times_df, non_work_times_df = create_datasets()\n",
    "work_times_df, non_work_times_df = remove_neutral_tweets(work_times_df, non_work_times_df)\n",
    "result = calculate_mwu_statistic(work_times_df, non_work_times_df)\n",
    "result"
   ]
  },
  {
   "cell_type": "code",
   "execution_count": 119,
   "id": "57fa2824",
   "metadata": {},
   "outputs": [
    {
     "data": {
      "text/html": [
       "<div>\n",
       "<style scoped>\n",
       "    .dataframe tbody tr th:only-of-type {\n",
       "        vertical-align: middle;\n",
       "    }\n",
       "\n",
       "    .dataframe tbody tr th {\n",
       "        vertical-align: top;\n",
       "    }\n",
       "\n",
       "    .dataframe thead th {\n",
       "        text-align: right;\n",
       "    }\n",
       "</style>\n",
       "<table border=\"1\" class=\"dataframe\">\n",
       "  <thead>\n",
       "    <tr style=\"text-align: right;\">\n",
       "      <th></th>\n",
       "      <th>U-val</th>\n",
       "      <th>tail</th>\n",
       "      <th>p-val</th>\n",
       "      <th>RBC</th>\n",
       "      <th>CLES</th>\n",
       "    </tr>\n",
       "  </thead>\n",
       "  <tbody>\n",
       "    <tr>\n",
       "      <th>MWU</th>\n",
       "      <td>448441506.0</td>\n",
       "      <td>two-sided</td>\n",
       "      <td>0.021113</td>\n",
       "      <td>-0.010949</td>\n",
       "      <td>0.505475</td>\n",
       "    </tr>\n",
       "  </tbody>\n",
       "</table>\n",
       "</div>"
      ],
      "text/plain": [
       "           U-val       tail     p-val       RBC      CLES\n",
       "MWU  448441506.0  two-sided  0.021113 -0.010949  0.505475"
      ]
     },
     "execution_count": 119,
     "metadata": {},
     "output_type": "execute_result"
    }
   ],
   "source": [
    "# Cálculo da estatística Mann-Withney PADRONIZANDO os dados\n",
    "\n",
    "work_times_df, non_work_times_df = create_datasets()\n",
    "work_times_df, non_work_times_df = remove_neutral_tweets(work_times_df, non_work_times_df)\n",
    "work_times_df, non_work_times_df = scale_datasets(work_times_df, non_work_times_df)\n",
    "result = calculate_mwu_statistic(work_times_df, non_work_times_df)\n",
    "result"
   ]
  },
  {
   "cell_type": "code",
   "execution_count": 120,
   "id": "6be24dd4",
   "metadata": {},
   "outputs": [
    {
     "name": "stdout",
     "output_type": "stream",
     "text": [
      "0    4.364417e-15\n",
      "dtype: float64\n",
      "0   -2.711356e-15\n",
      "dtype: float64\n"
     ]
    }
   ],
   "source": [
    "print(np.mean(work_times_df))\n",
    "print(np.mean(non_work_times_df))"
   ]
  },
  {
   "cell_type": "code",
   "execution_count": 125,
   "id": "0fc04a37",
   "metadata": {},
   "outputs": [
    {
     "data": {
      "text/plain": [
       "Ttest_indResult(statistic=array([2.15128035e-15]), pvalue=array([1.]))"
      ]
     },
     "execution_count": 125,
     "metadata": {},
     "output_type": "execute_result"
    }
   ],
   "source": [
    "# Cálculo da estatística t-test PADRONIZANDO os dados\n",
    "\n",
    "work_times_df, non_work_times_df = create_datasets()\n",
    "work_times_df, non_work_times_df = remove_neutral_tweets(work_times_df, non_work_times_df)\n",
    "work_times_df, non_work_times_df = scale_datasets(work_times_df, non_work_times_df)\n",
    "result = calculate_ttest(work_times_df, non_work_times_df)\n",
    "result"
   ]
  },
  {
   "cell_type": "code",
   "execution_count": 126,
   "id": "87614a78",
   "metadata": {},
   "outputs": [
    {
     "data": {
      "text/html": [
       "<div>\n",
       "<style scoped>\n",
       "    .dataframe tbody tr th:only-of-type {\n",
       "        vertical-align: middle;\n",
       "    }\n",
       "\n",
       "    .dataframe tbody tr th {\n",
       "        vertical-align: top;\n",
       "    }\n",
       "\n",
       "    .dataframe thead th {\n",
       "        text-align: right;\n",
       "    }\n",
       "</style>\n",
       "<table border=\"1\" class=\"dataframe\">\n",
       "  <thead>\n",
       "    <tr style=\"text-align: right;\">\n",
       "      <th></th>\n",
       "      <th>U-val</th>\n",
       "      <th>tail</th>\n",
       "      <th>p-val</th>\n",
       "      <th>RBC</th>\n",
       "      <th>CLES</th>\n",
       "    </tr>\n",
       "  </thead>\n",
       "  <tbody>\n",
       "    <tr>\n",
       "      <th>MWU</th>\n",
       "      <td>1.024810e+09</td>\n",
       "      <td>two-sided</td>\n",
       "      <td>0.790495</td>\n",
       "      <td>0.001002</td>\n",
       "      <td>0.499499</td>\n",
       "    </tr>\n",
       "  </tbody>\n",
       "</table>\n",
       "</div>"
      ],
      "text/plain": [
       "            U-val       tail     p-val       RBC      CLES\n",
       "MWU  1.024810e+09  two-sided  0.790495  0.001002  0.499499"
      ]
     },
     "execution_count": 126,
     "metadata": {},
     "output_type": "execute_result"
    }
   ],
   "source": [
    "# Cálculo da estatística t-test SEM REMOVER NEUTROS E SEM PADRONIZAR os dados\n",
    "\n",
    "work_times_df, non_work_times_df = create_datasets()\n",
    "# work_times_df, non_work_times_df = remove_neutral_tweets(work_times_df, non_work_times_df)\n",
    "# work_times_df, non_work_times_df = scale_datasets(work_times_df, non_work_times_df)\n",
    "result = calculate_mwu_statistic(work_times_df, non_work_times_df)\n",
    "result"
   ]
  },
  {
   "cell_type": "code",
   "execution_count": 127,
   "id": "5b9ab0f9",
   "metadata": {},
   "outputs": [
    {
     "data": {
      "text/html": [
       "<div>\n",
       "<style scoped>\n",
       "    .dataframe tbody tr th:only-of-type {\n",
       "        vertical-align: middle;\n",
       "    }\n",
       "\n",
       "    .dataframe tbody tr th {\n",
       "        vertical-align: top;\n",
       "    }\n",
       "\n",
       "    .dataframe thead th {\n",
       "        text-align: right;\n",
       "    }\n",
       "</style>\n",
       "<table border=\"1\" class=\"dataframe\">\n",
       "  <thead>\n",
       "    <tr style=\"text-align: right;\">\n",
       "      <th></th>\n",
       "      <th>U-val</th>\n",
       "      <th>tail</th>\n",
       "      <th>p-val</th>\n",
       "      <th>RBC</th>\n",
       "      <th>CLES</th>\n",
       "    </tr>\n",
       "  </thead>\n",
       "  <tbody>\n",
       "    <tr>\n",
       "      <th>MWU</th>\n",
       "      <td>1.151157e+09</td>\n",
       "      <td>two-sided</td>\n",
       "      <td>1.236584e-222</td>\n",
       "      <td>-0.122163</td>\n",
       "      <td>0.561082</td>\n",
       "    </tr>\n",
       "  </tbody>\n",
       "</table>\n",
       "</div>"
      ],
      "text/plain": [
       "            U-val       tail          p-val       RBC      CLES\n",
       "MWU  1.151157e+09  two-sided  1.236584e-222 -0.122163  0.561082"
      ]
     },
     "execution_count": 127,
     "metadata": {},
     "output_type": "execute_result"
    }
   ],
   "source": [
    "# Cálculo da estatística t-test SEM REMOVER NEUTROS E PADRONIZANDO os dados\n",
    "\n",
    "work_times_df, non_work_times_df = create_datasets()\n",
    "# work_times_df, non_work_times_df = remove_neutral_tweets(work_times_df, non_work_times_df)\n",
    "work_times_df, non_work_times_df = scale_datasets(work_times_df, non_work_times_df)\n",
    "result = calculate_mwu_statistic(work_times_df, non_work_times_df)\n",
    "result"
   ]
  },
  {
   "cell_type": "code",
   "execution_count": null,
   "id": "066ba480",
   "metadata": {},
   "outputs": [],
   "source": []
  }
 ],
 "metadata": {
  "kernelspec": {
   "display_name": "Python 3",
   "language": "python",
   "name": "python3"
  },
  "language_info": {
   "codemirror_mode": {
    "name": "ipython",
    "version": 3
   },
   "file_extension": ".py",
   "mimetype": "text/x-python",
   "name": "python",
   "nbconvert_exporter": "python",
   "pygments_lexer": "ipython3",
   "version": "3.7.6"
  }
 },
 "nbformat": 4,
 "nbformat_minor": 5
}
